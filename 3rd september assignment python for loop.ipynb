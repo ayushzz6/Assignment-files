{
 "cells": [
  {
   "cell_type": "code",
   "execution_count": 2,
   "id": "5e3450b5-f1ae-49e0-b96d-16e049ae754b",
   "metadata": {},
   "outputs": [],
   "source": [
    "#Assignment : Python - For loop"
   ]
  },
  {
   "cell_type": "code",
   "execution_count": null,
   "id": "ec529406-dfa0-4985-b6db-a9af04aea6ff",
   "metadata": {},
   "outputs": [],
   "source": []
  },
  {
   "cell_type": "code",
   "execution_count": 6,
   "id": "96affc31-398c-49f1-a405-1b3e06b57057",
   "metadata": {},
   "outputs": [],
   "source": [
    "#Basic Level:\n",
    "#1. Write a Python program to print the numbers from 1 to 10 using a `for` loop."
   ]
  },
  {
   "cell_type": "code",
   "execution_count": 8,
   "id": "9b82714b-a2e9-4c97-9db3-eefc753d1946",
   "metadata": {},
   "outputs": [
    {
     "name": "stdin",
     "output_type": "stream",
     "text": [
      " 10\n"
     ]
    },
    {
     "name": "stdout",
     "output_type": "stream",
     "text": [
      "0\n",
      "1\n",
      "2\n",
      "3\n",
      "4\n",
      "5\n",
      "6\n",
      "7\n",
      "8\n",
      "9\n",
      "10\n"
     ]
    }
   ],
   "source": [
    "a=int(input())\n",
    "for i in range(a+1):\n",
    "    print(i)"
   ]
  },
  {
   "cell_type": "code",
   "execution_count": null,
   "id": "a3b47ef4-2c4e-4052-9108-6090b8ed1cbe",
   "metadata": {},
   "outputs": [],
   "source": []
  },
  {
   "cell_type": "code",
   "execution_count": 9,
   "id": "22d07de5-cfa1-49bd-aeb6-ac084cd13ad1",
   "metadata": {},
   "outputs": [],
   "source": [
    "#2. Create a program that calculates the sum of all numbers in a list using a `for` loop."
   ]
  },
  {
   "cell_type": "code",
   "execution_count": 11,
   "id": "62d5e8a5-3c83-4e9b-a184-6bc01ab084a9",
   "metadata": {},
   "outputs": [
    {
     "name": "stdout",
     "output_type": "stream",
     "text": [
      "45\n"
     ]
    }
   ],
   "source": [
    "l=[1,2,3,4,5,6,7,8,9]\n",
    "s=0\n",
    "for i in l:\n",
    "    s=s+i\n",
    "print(s)"
   ]
  },
  {
   "cell_type": "code",
   "execution_count": null,
   "id": "2846de71-1aa7-46e0-b99d-0f0d8781c613",
   "metadata": {},
   "outputs": [],
   "source": []
  },
  {
   "cell_type": "code",
   "execution_count": 12,
   "id": "b7c76d6b-74dd-401c-bbf3-b310b27301a3",
   "metadata": {},
   "outputs": [],
   "source": [
    "#3. Write a program to print the characters of a string in reverse order using a `for` loop."
   ]
  },
  {
   "cell_type": "code",
   "execution_count": 14,
   "id": "7380adfd-968a-4180-864a-499029283475",
   "metadata": {},
   "outputs": [
    {
     "name": "stdin",
     "output_type": "stream",
     "text": [
      " hello\n"
     ]
    },
    {
     "name": "stdout",
     "output_type": "stream",
     "text": [
      "olleh\n"
     ]
    }
   ],
   "source": [
    "a=input()\n",
    "b=''\n",
    "for i in reversed(a):\n",
    "    b+=i\n",
    "print(b)"
   ]
  },
  {
   "cell_type": "code",
   "execution_count": null,
   "id": "76c70abb-808d-484a-ae22-896f884783d3",
   "metadata": {},
   "outputs": [],
   "source": []
  },
  {
   "cell_type": "code",
   "execution_count": 15,
   "id": "bb8f2d4a-c1d0-4c89-adb1-51fefe91628c",
   "metadata": {},
   "outputs": [],
   "source": [
    "#4. Develop a program that finds the factorial of a given number using a `for` loop."
   ]
  },
  {
   "cell_type": "code",
   "execution_count": 27,
   "id": "9d3022c3-2c27-46d2-bfab-7ec9d8edce54",
   "metadata": {},
   "outputs": [
    {
     "name": "stdin",
     "output_type": "stream",
     "text": [
      " 3\n"
     ]
    },
    {
     "name": "stdout",
     "output_type": "stream",
     "text": [
      "6\n"
     ]
    }
   ],
   "source": [
    "a=int(input())\n",
    "p=1\n",
    "for i in range(1,a+1):\n",
    "    p = i*p\n",
    "print(p)"
   ]
  },
  {
   "cell_type": "code",
   "execution_count": null,
   "id": "90b97128-0bcb-45ea-900e-162b81e57d92",
   "metadata": {},
   "outputs": [],
   "source": []
  },
  {
   "cell_type": "code",
   "execution_count": 28,
   "id": "b9ccb4dd-89cc-45c4-9fa3-463fbe24debf",
   "metadata": {},
   "outputs": [],
   "source": [
    "#6. Write a program that counts the number of even and odd numbers in a list using a `for` loop."
   ]
  },
  {
   "cell_type": "code",
   "execution_count": 231,
   "id": "a3940867-883f-4b11-8e1c-3c61db6c4c47",
   "metadata": {},
   "outputs": [
    {
     "name": "stdout",
     "output_type": "stream",
     "text": [
      "2\n",
      "3\n"
     ]
    }
   ],
   "source": [
    "a=[1,2,3,4,5]\n",
    "o=[]\n",
    "e=[]\n",
    "for i in a:\n",
    "    if i%2==0:\n",
    "        e.append(i)\n",
    "        b=len(e)\n",
    "print(b)\n",
    "for i in a:\n",
    "    if i%2!=0:\n",
    "        o.append(i)\n",
    "        c=len(o)\n",
    "print(c)"
   ]
  },
  {
   "cell_type": "code",
   "execution_count": null,
   "id": "beafd981-bbfc-49fa-adaf-2774c24f4c35",
   "metadata": {},
   "outputs": [],
   "source": []
  },
  {
   "cell_type": "code",
   "execution_count": 75,
   "id": "b32042b0-84be-43cb-b624-7d0f2be54333",
   "metadata": {},
   "outputs": [],
   "source": [
    "#7. Develop a program that prints the squares of numbers from 1 to 5 using a `for` loop."
   ]
  },
  {
   "cell_type": "code",
   "execution_count": 81,
   "id": "a3fd54d8-bbde-48ba-88b8-d623ecbe14da",
   "metadata": {},
   "outputs": [
    {
     "name": "stdout",
     "output_type": "stream",
     "text": [
      "1\n",
      "4\n",
      "9\n",
      "16\n",
      "25\n"
     ]
    }
   ],
   "source": [
    "a=5\n",
    "for i in range(1,6):\n",
    "    p=i*i\n",
    "    print(p)"
   ]
  },
  {
   "cell_type": "code",
   "execution_count": null,
   "id": "1832e703-18f5-4c93-8cdf-fbe44c88bca2",
   "metadata": {},
   "outputs": [],
   "source": []
  },
  {
   "cell_type": "code",
   "execution_count": 82,
   "id": "1741831a-b463-4af5-9a2d-2d9b6c43437b",
   "metadata": {},
   "outputs": [],
   "source": [
    "#8. Create a program to find the length of a string without using the `len()` function."
   ]
  },
  {
   "cell_type": "code",
   "execution_count": 84,
   "id": "583469f6-67fe-48b1-b375-3d0b74bd5e0d",
   "metadata": {},
   "outputs": [
    {
     "name": "stdin",
     "output_type": "stream",
     "text": [
      " hello\n"
     ]
    },
    {
     "name": "stdout",
     "output_type": "stream",
     "text": [
      "5\n"
     ]
    }
   ],
   "source": [
    "a=input()\n",
    "s=0\n",
    "for i in a:\n",
    "    s+=1\n",
    "print(s)"
   ]
  },
  {
   "cell_type": "code",
   "execution_count": null,
   "id": "67b66992-4f27-45b0-b581-9f1eb0d44ee6",
   "metadata": {},
   "outputs": [],
   "source": []
  },
  {
   "cell_type": "code",
   "execution_count": 85,
   "id": "404b1526-4055-49c0-a800-b5dc81cab9b9",
   "metadata": {},
   "outputs": [],
   "source": [
    " #9. Write a program that calculates the average of a list of numbers using a `for` loop."
   ]
  },
  {
   "cell_type": "code",
   "execution_count": 96,
   "id": "b3d83309-7df0-47db-a202-635c217aec2d",
   "metadata": {},
   "outputs": [
    {
     "name": "stdout",
     "output_type": "stream",
     "text": [
      "3.0\n"
     ]
    }
   ],
   "source": [
    "a=[1,2,3,4,5]\n",
    "b=len(a)\n",
    "s=0\n",
    "for i in a:\n",
    "    s=s+i\n",
    "    avg=s/b\n",
    "print(avg)"
   ]
  },
  {
   "cell_type": "code",
   "execution_count": null,
   "id": "1c761dce-0ebd-446b-87ad-f831c7ceba32",
   "metadata": {},
   "outputs": [],
   "source": []
  },
  {
   "cell_type": "code",
   "execution_count": 97,
   "id": "ac76481a-2f75-4815-9f72-3b836dc500a8",
   "metadata": {},
   "outputs": [],
   "source": [
    "#10. Develop a program that prints the first `n` Fibonacci numbers using a `for` loop."
   ]
  },
  {
   "cell_type": "code",
   "execution_count": 105,
   "id": "334bb86a-438d-45b5-895c-81b4325fd112",
   "metadata": {},
   "outputs": [
    {
     "name": "stdin",
     "output_type": "stream",
     "text": [
      " 5\n"
     ]
    },
    {
     "name": "stdout",
     "output_type": "stream",
     "text": [
      "1\n",
      "3\n",
      "6\n",
      "10\n",
      "15\n"
     ]
    }
   ],
   "source": [
    "n=int(input())\n",
    "s=0  \n",
    "for i in range(1, n+1):\n",
    "    s=s+i\n",
    "    print(s)"
   ]
  },
  {
   "cell_type": "code",
   "execution_count": null,
   "id": "43f22ecb-88dc-4bfd-8644-dc440c751d7a",
   "metadata": {},
   "outputs": [],
   "source": []
  },
  {
   "cell_type": "code",
   "execution_count": null,
   "id": "98d6a735-1893-4cfd-952b-713616c4b628",
   "metadata": {},
   "outputs": [],
   "source": []
  },
  {
   "cell_type": "code",
   "execution_count": 106,
   "id": "394b29b2-dfae-45f3-b8b4-9668f18aa865",
   "metadata": {},
   "outputs": [],
   "source": [
    "#Intermediate Level:"
   ]
  },
  {
   "cell_type": "code",
   "execution_count": 107,
   "id": "cf7c951e-06f8-4628-a25d-464983b99a5f",
   "metadata": {},
   "outputs": [],
   "source": [
    "#11. Write a program to check if a given list contains any duplicates using a `for` loop."
   ]
  },
  {
   "cell_type": "code",
   "execution_count": 123,
   "id": "423bc855-c0f0-4ebc-8b76-cb4d38ddc6ae",
   "metadata": {},
   "outputs": [
    {
     "data": {
      "text/plain": [
       "{1, 2, 3, 4, 7, 8, 9}"
      ]
     },
     "execution_count": 123,
     "metadata": {},
     "output_type": "execute_result"
    }
   ],
   "source": [
    "a=[1,2,3,7,8,8,9,4,2,1]\n"
   ]
  },
  {
   "cell_type": "code",
   "execution_count": 124,
   "id": "56058cc3-55ce-4f58-9edf-37b98b16cb11",
   "metadata": {},
   "outputs": [],
   "source": [
    "#13. Develop a program that counts the number of vowels in a string using a `for` loop."
   ]
  },
  {
   "cell_type": "code",
   "execution_count": 139,
   "id": "7b091b70-a9e1-486d-950f-3cd20e0268af",
   "metadata": {},
   "outputs": [
    {
     "name": "stdout",
     "output_type": "stream",
     "text": [
      "3\n"
     ]
    }
   ],
   "source": [
    "a='Hello World'\n",
    "b=a.lower()\n",
    "c=0\n",
    "for i in b:\n",
    "    if i in ['a','e','i','o','u']:\n",
    "        c=c+1\n",
    "print(c)"
   ]
  },
  {
   "cell_type": "code",
   "execution_count": null,
   "id": "187a3c70-9422-46b3-8895-e5ae60cfdb12",
   "metadata": {},
   "outputs": [],
   "source": []
  },
  {
   "cell_type": "code",
   "execution_count": 140,
   "id": "7be1cc5f-ef40-4100-9408-bd38f963a18c",
   "metadata": {},
   "outputs": [],
   "source": [
    "#17. Write a program that converts a list of Fahrenheit temperatures to Celsius using a `for` loop."
   ]
  },
  {
   "cell_type": "code",
   "execution_count": 173,
   "id": "ee724a08-53d1-482e-9034-3f6f0adb1868",
   "metadata": {},
   "outputs": [
    {
     "name": "stdout",
     "output_type": "stream",
     "text": [
      "0.9999999999999984\n",
      "452.77777777777777\n",
      "16.11111111111111\n",
      "38.333333333333336\n",
      "343.8888888888889\n"
     ]
    }
   ],
   "source": [
    "a=[33.8,847,61,101,651]\n",
    "c=0\n",
    "for i in a:\n",
    "    c= (i-32)*5/9\n",
    "    print((c))\n",
    "  "
   ]
  },
  {
   "cell_type": "code",
   "execution_count": null,
   "id": "37aee48d-165c-438e-ab30-a868dfd9ea28",
   "metadata": {},
   "outputs": [],
   "source": []
  },
  {
   "cell_type": "code",
   "execution_count": 174,
   "id": "428cfe4e-b4d3-4fe6-95db-c9298e4a66f7",
   "metadata": {},
   "outputs": [],
   "source": [
    "#18. Create a program to print the common elements from two lists using a `for` loop."
   ]
  },
  {
   "cell_type": "code",
   "execution_count": 177,
   "id": "6416a6f0-34ee-44cc-8619-59154ad58434",
   "metadata": {},
   "outputs": [
    {
     "name": "stdout",
     "output_type": "stream",
     "text": [
      "[1, 2, 4, 4, 6]\n"
     ]
    }
   ],
   "source": [
    "a=[1,2,4,9,7,5,63,4,6]\n",
    "b=[1,2,4,6,2,39,4]\n",
    "c=[]\n",
    "for i in a:\n",
    "    if i in b:\n",
    "        c.append(i)\n",
    "print(c)"
   ]
  },
  {
   "cell_type": "code",
   "execution_count": null,
   "id": "337f8048-2580-4b2f-96ce-5886333ba605",
   "metadata": {},
   "outputs": [],
   "source": []
  },
  {
   "cell_type": "code",
   "execution_count": 178,
   "id": "89a083e9-722b-4486-b519-1877958212f5",
   "metadata": {},
   "outputs": [],
   "source": [
    "#Advanced Level:"
   ]
  },
  {
   "cell_type": "code",
   "execution_count": 219,
   "id": "249c50b7-14ae-41f7-ae21-2b96209dd10c",
   "metadata": {},
   "outputs": [],
   "source": [
    "#23. Develop a program that extracts unique elements from a list and stores them in a new list "
   ]
  },
  {
   "cell_type": "code",
   "execution_count": 217,
   "id": "1a5fb02e-9206-4159-a318-cad9d653956a",
   "metadata": {},
   "outputs": [
    {
     "name": "stdout",
     "output_type": "stream",
     "text": [
      "[77, 88, 44, 99, 8, 9, 5]\n"
     ]
    }
   ],
   "source": [
    "a=[1,2,3,4,55,6,77,88,44,55,99,3,4,2,6,8,9,1,3,5,6]\n",
    "b=[]\n",
    "for i in a:\n",
    "    if a.count(i)==1:\n",
    "        b.append(i)\n",
    "print(b)"
   ]
  },
  {
   "cell_type": "code",
   "execution_count": null,
   "id": "354b413d-8231-4a41-b283-da67f08a611c",
   "metadata": {},
   "outputs": [],
   "source": []
  },
  {
   "cell_type": "code",
   "execution_count": 220,
   "id": "4177021f-16b0-49f4-9c86-e365e023283d",
   "metadata": {},
   "outputs": [],
   "source": [
    "#26. Develop a program that computes the sum of even and odd numbers in a list separately "
   ]
  },
  {
   "cell_type": "code",
   "execution_count": 229,
   "id": "da847c4f-75f2-4f99-a03e-c48f78867681",
   "metadata": {},
   "outputs": [
    {
     "name": "stdout",
     "output_type": "stream",
     "text": [
      "20\n",
      "25\n"
     ]
    }
   ],
   "source": [
    "a=[1,2,3,4,5,6,7,8,9]\n",
    "o=[]\n",
    "e=[]\n",
    "for i in a:\n",
    "    if i%2==0:\n",
    "        e.append(i)\n",
    "        c=sum(e)\n",
    "print(c)\n",
    "for i in a:\n",
    "    if i%2!=0:\n",
    "        o.append(i)\n",
    "        d=sum(o)\n",
    "print(d)\n",
    "        "
   ]
  },
  {
   "cell_type": "code",
   "execution_count": null,
   "id": "c348b2d5-eda3-4758-9862-87bb0d8f6b61",
   "metadata": {},
   "outputs": [],
   "source": []
  },
  {
   "cell_type": "code",
   "execution_count": 232,
   "id": "a73ea439-924a-4adf-b351-568faaa27e54",
   "metadata": {},
   "outputs": [],
   "source": [
    "#27. Create a program that generates a list of squares of odd numbers between 1 and 10"
   ]
  },
  {
   "cell_type": "code",
   "execution_count": 237,
   "id": "2fa5123e-5512-46bc-b00f-9995a9bb2aef",
   "metadata": {},
   "outputs": [
    {
     "name": "stdout",
     "output_type": "stream",
     "text": [
      "1\n",
      "9\n",
      "25\n",
      "49\n",
      "81\n"
     ]
    }
   ],
   "source": [
    "n=10\n",
    "s=1\n",
    "for i in range(1,11):\n",
    "    if i%2!=0:\n",
    "        s=i**2\n",
    "        print(s)\n",
    "    "
   ]
  },
  {
   "cell_type": "code",
   "execution_count": null,
   "id": "36a8a723-5c55-42b4-907d-8a88c82f53ed",
   "metadata": {},
   "outputs": [],
   "source": []
  },
  {
   "cell_type": "code",
   "execution_count": 238,
   "id": "f3a01847-7209-45da-b000-2dc4979743e7",
   "metadata": {},
   "outputs": [],
   "source": [
    "#28. Write a program that combines two lists into a dictionary"
   ]
  },
  {
   "cell_type": "code",
   "execution_count": 245,
   "id": "8378721f-6fb8-4a82-8d94-163051124ea9",
   "metadata": {},
   "outputs": [
    {
     "name": "stdout",
     "output_type": "stream",
     "text": [
      "{1: 'a', 2: 'b', 3: 'c', 4: 'f', 5: 'g', 6: 'u'}\n"
     ]
    }
   ],
   "source": [
    "a=[1,2,3,4,5,6]\n",
    "b=['a','b','c','f','g','u']\n",
    "k=dict(zip(a,b))\n",
    "print(k)\n"
   ]
  },
  {
   "cell_type": "code",
   "execution_count": null,
   "id": "43788de4-6629-4404-ae68-395b161eb370",
   "metadata": {},
   "outputs": [],
   "source": []
  },
  {
   "cell_type": "code",
   "execution_count": 246,
   "id": "99363746-da65-46de-851f-191cc3778cbd",
   "metadata": {},
   "outputs": [],
   "source": [
    "#29. Develop a program that extracts the vowels from a string and stores them in a list"
   ]
  },
  {
   "cell_type": "code",
   "execution_count": 251,
   "id": "3f31ce40-7345-4127-aa52-308e88b5af79",
   "metadata": {},
   "outputs": [
    {
     "name": "stdout",
     "output_type": "stream",
     "text": [
      "{'o', 'i', 'e', 'a'}\n"
     ]
    }
   ],
   "source": [
    "a='hello myself a data scientist'\n",
    "b=[]\n",
    "for i in a:\n",
    "    if i in ['a','e','i','o','u']:\n",
    "        b.append(i)\n",
    "print(set(b))\n",
    "        "
   ]
  },
  {
   "cell_type": "code",
   "execution_count": null,
   "id": "0a559fdb-ab48-4c5b-92ee-77af8cc9cfb2",
   "metadata": {},
   "outputs": [],
   "source": []
  },
  {
   "cell_type": "code",
   "execution_count": 252,
   "id": "c82af42b-d003-45e7-ad9e-9178ef0e7956",
   "metadata": {},
   "outputs": [],
   "source": [
    "#30. Create a program that removes all non-numeric characters from a list of strings"
   ]
  },
  {
   "cell_type": "code",
   "execution_count": 261,
   "id": "7e60dc69-00a8-48f8-a2ad-1a609cdb4263",
   "metadata": {},
   "outputs": [
    {
     "name": "stdout",
     "output_type": "stream",
     "text": [
      "['h', 'e', 'l', 'l', 'o', 'm', 'r', 'a', 'n', 'd', 'm', 'r']\n"
     ]
    }
   ],
   "source": [
    "a='hello mr 1 an dmr 2'\n",
    "b=[]\n",
    "for i in a:\n",
    "    if i.isalpha():\n",
    "        b.append(i)\n",
    "print(b)"
   ]
  },
  {
   "cell_type": "code",
   "execution_count": 262,
   "id": "821a3926-8c36-4720-8235-46803ed0c1d8",
   "metadata": {},
   "outputs": [],
   "source": [
    "\n",
    "\n",
    "#Challenge Level:"
   ]
  },
  {
   "cell_type": "code",
   "execution_count": 263,
   "id": "ac747afe-e30e-4892-b462-ec3e55f1d893",
   "metadata": {},
   "outputs": [],
   "source": [
    "#37. Write a program that finds the longest word in a sentence \\\n"
   ]
  },
  {
   "cell_type": "code",
   "execution_count": 277,
   "id": "192159f4-7e3d-4129-a0df-60afe048a3df",
   "metadata": {},
   "outputs": [
    {
     "name": "stdin",
     "output_type": "stream",
     "text": [
      " bfdgfd fdb ghbirir\n"
     ]
    },
    {
     "ename": "TypeError",
     "evalue": "'int' object is not iterable",
     "output_type": "error",
     "traceback": [
      "\u001b[0;31m---------------------------------------------------------------------------\u001b[0m",
      "\u001b[0;31mTypeError\u001b[0m                                 Traceback (most recent call last)",
      "Cell \u001b[0;32mIn[277], line 7\u001b[0m\n\u001b[1;32m      5\u001b[0m \u001b[38;5;28;01mfor\u001b[39;00m i \u001b[38;5;129;01min\u001b[39;00m b:\n\u001b[1;32m      6\u001b[0m     c\u001b[38;5;241m=\u001b[39m\u001b[38;5;28mlen\u001b[39m(i)\n\u001b[0;32m----> 7\u001b[0m     \u001b[38;5;28;43mmax\u001b[39;49m\u001b[43m(\u001b[49m\u001b[38;5;28;43mlen\u001b[39;49m\u001b[43m(\u001b[49m\u001b[43mi\u001b[49m\u001b[43m)\u001b[49m\u001b[43m)\u001b[49m\n\u001b[1;32m      8\u001b[0m     s\u001b[38;5;241m=\u001b[39mi\n\u001b[1;32m      9\u001b[0m \u001b[38;5;28mprint\u001b[39m(s)\n",
      "\u001b[0;31mTypeError\u001b[0m: 'int' object is not iterable"
     ]
    }
   ],
   "source": [
    "a=input()\n",
    "str(a)\n",
    "b=a.split()\n",
    "s=''\n",
    "for i in b:\n",
    "    c=len(i)\n",
    "    s=i\n",
    "print(s)"
   ]
  },
  {
   "cell_type": "code",
   "execution_count": null,
   "id": "192b23da-2c1a-4f9a-9c1b-7f176d3a2199",
   "metadata": {},
   "outputs": [],
   "source": []
  },
  {
   "cell_type": "code",
   "execution_count": null,
   "id": "3cb775fd-6381-4b78-8af8-b8cb503e2afa",
   "metadata": {},
   "outputs": [],
   "source": []
  }
 ],
 "metadata": {
  "kernelspec": {
   "display_name": "Python 3 (ipykernel)",
   "language": "python",
   "name": "python3"
  },
  "language_info": {
   "codemirror_mode": {
    "name": "ipython",
    "version": 3
   },
   "file_extension": ".py",
   "mimetype": "text/x-python",
   "name": "python",
   "nbconvert_exporter": "python",
   "pygments_lexer": "ipython3",
   "version": "3.10.8"
  }
 },
 "nbformat": 4,
 "nbformat_minor": 5
}
