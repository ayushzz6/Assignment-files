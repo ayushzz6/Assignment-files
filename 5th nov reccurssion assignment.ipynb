{
 "cells": [
  {
   "cell_type": "code",
   "execution_count": 3,
   "id": "5d1d0df5-95f7-4ca1-875a-fcd526847213",
   "metadata": {},
   "outputs": [],
   "source": [
    "#Q.2 Given two strings word1 and word2, return the minimum number of operations required to convert word1\n",
    "#to word2.\n",
    "#Example 1:\n",
    "#Input: word1 = \"horse\", word2 = \"ros\"\n"
   ]
  },
  {
   "cell_type": "code",
   "execution_count": 48,
   "id": "04801ebb-1e20-43d2-9f79-afa5df895da7",
   "metadata": {},
   "outputs": [],
   "source": [
    "def convert(n):\n",
    "    b= list(n)\n",
    "    b.remove('r') , b.remove('e') , b.remove('h'), b.insert(0, 'r')\n",
    "    return b"
   ]
  },
  {
   "cell_type": "code",
   "execution_count": 49,
   "id": "ccf4d61b-22c6-41f1-8b55-8979a51bc2fc",
   "metadata": {},
   "outputs": [
    {
     "data": {
      "text/plain": [
       "['r', 'o', 's']"
      ]
     },
     "execution_count": 49,
     "metadata": {},
     "output_type": "execute_result"
    }
   ],
   "source": [
    "convert('horse')"
   ]
  },
  {
   "cell_type": "code",
   "execution_count": null,
   "id": "05d2c37a-f9da-4fdf-9192-89faa8b4f477",
   "metadata": {},
   "outputs": [],
   "source": []
  },
  {
   "cell_type": "code",
   "execution_count": 51,
   "id": "23bf2f55-f2b3-48b4-a614-0df277144ad3",
   "metadata": {},
   "outputs": [],
   "source": [
    "# Example 2: Input: word1 = \"intention\", word2 = \"execution\""
   ]
  },
  {
   "cell_type": "code",
   "execution_count": 72,
   "id": "f616c222-83d4-4add-84a9-b90cf74b6193",
   "metadata": {},
   "outputs": [],
   "source": [
    "def convert(n):\n",
    "    b=list(n)\n",
    "    b.remove('i') ,  b.remove('n') ,  b.remove('t'),  b.remove('e'),  b.remove('n')\n",
    "    b.insert(0,'e'), b.insert(1,'x'), b.insert(2,'e') , b.insert(3,'c'), b.insert(4,'u')\n",
    "    return b"
   ]
  },
  {
   "cell_type": "code",
   "execution_count": 73,
   "id": "d28a8ffd-fae6-4a47-ba6c-ebd05b261599",
   "metadata": {},
   "outputs": [
    {
     "data": {
      "text/plain": [
       "['e', 'x', 'e', 'c', 'u', 't', 'i', 'o', 'n']"
      ]
     },
     "execution_count": 73,
     "metadata": {},
     "output_type": "execute_result"
    }
   ],
   "source": [
    "convert('intention')"
   ]
  },
  {
   "cell_type": "code",
   "execution_count": null,
   "id": "7101c9f1-1120-410a-be36-47dd6872f976",
   "metadata": {},
   "outputs": [],
   "source": []
  },
  {
   "cell_type": "code",
   "execution_count": 74,
   "id": "36cec490-a8a3-4624-8545-830e239eb383",
   "metadata": {},
   "outputs": [],
   "source": [
    "#Q. 3 Print the max value of the array [ 13, 1, -3, 22, 5]."
   ]
  },
  {
   "cell_type": "code",
   "execution_count": 97,
   "id": "1ea4f06b-84ec-428d-baca-b580a496e5e9",
   "metadata": {},
   "outputs": [],
   "source": [
    "def m(arr):\n",
    "    me= arr[0]\n",
    "    for i in arr:\n",
    "        if i> me:\n",
    "            me= i\n",
    "            return me\n",
    "        else:\n",
    "            pass\n",
    "    \n",
    "    "
   ]
  },
  {
   "cell_type": "code",
   "execution_count": 98,
   "id": "218927a8-6d8d-44ac-8bad-9e4ee32ca954",
   "metadata": {},
   "outputs": [
    {
     "data": {
      "text/plain": [
       "22"
      ]
     },
     "execution_count": 98,
     "metadata": {},
     "output_type": "execute_result"
    }
   ],
   "source": [
    "m([ 13, 1, -3, 22, 5])"
   ]
  },
  {
   "cell_type": "code",
   "execution_count": 99,
   "id": "7694c033-a9d6-4e43-80a9-3ed93b7e8b38",
   "metadata": {},
   "outputs": [],
   "source": [
    "#Q.4 Find the sum of the values of the array [92, 23, 15, -20, 10]."
   ]
  },
  {
   "cell_type": "code",
   "execution_count": 9,
   "id": "1e5412cc-237c-4817-9161-c0eece337b0c",
   "metadata": {},
   "outputs": [],
   "source": [
    "def sum_(arr):\n",
    "    s=0\n",
    "    for i in arr:\n",
    "        s=s+i\n",
    "    return s\n",
    "        "
   ]
  },
  {
   "cell_type": "code",
   "execution_count": 10,
   "id": "95013966-62ed-4838-b33e-4d6af12ad3c2",
   "metadata": {},
   "outputs": [
    {
     "data": {
      "text/plain": [
       "120"
      ]
     },
     "execution_count": 10,
     "metadata": {},
     "output_type": "execute_result"
    }
   ],
   "source": [
    "sum_([92, 23, 15, -20, 10])"
   ]
  },
  {
   "cell_type": "code",
   "execution_count": 12,
   "id": "a8a9e42b-d3d3-49ca-90c3-f85aba0744f8",
   "metadata": {},
   "outputs": [],
   "source": [
    "#Q.5 Given a number n. Print if it is an armstrong number or not.An armstrong number is a number if the sum\n",
    "#of every digit in that number raised to the power of total digits in that number is equal to the number.\n",
    "#Example : 153 = 1^3 + 5^3 + 3^3 = 1 + 125 + 27 = 153 hence 153 is an armstrong number. (Easy)"
   ]
  },
  {
   "cell_type": "code",
   "execution_count": 40,
   "id": "45580f23-76e1-47e6-a439-7cb26439d8ed",
   "metadata": {},
   "outputs": [],
   "source": [
    "def armstrong(n , a):\n",
    "    if n== 0:\n",
    "        return 0\n",
    "    else:\n",
    "        d= n%10\n",
    "        r=d**a + armstrong(n//10, a)\n",
    "        return f'the no i'\n",
    "\n",
    "    \n",
    "    "
   ]
  },
  {
   "cell_type": "code",
   "execution_count": 41,
   "id": "ac10c40c-e095-4a0f-9d69-3ba386b57aca",
   "metadata": {},
   "outputs": [
    {
     "ename": "TypeError",
     "evalue": "unsupported operand type(s) for +: 'int' and 'str'",
     "output_type": "error",
     "traceback": [
      "\u001b[0;31m---------------------------------------------------------------------------\u001b[0m",
      "\u001b[0;31mTypeError\u001b[0m                                 Traceback (most recent call last)",
      "Cell \u001b[0;32mIn[41], line 1\u001b[0m\n\u001b[0;32m----> 1\u001b[0m \u001b[43marmstrong\u001b[49m\u001b[43m(\u001b[49m\u001b[38;5;241;43m153\u001b[39;49m\u001b[43m,\u001b[49m\u001b[43m \u001b[49m\u001b[38;5;241;43m3\u001b[39;49m\u001b[43m)\u001b[49m\n",
      "Cell \u001b[0;32mIn[40], line 6\u001b[0m, in \u001b[0;36marmstrong\u001b[0;34m(n, a)\u001b[0m\n\u001b[1;32m      4\u001b[0m \u001b[38;5;28;01melse\u001b[39;00m:\n\u001b[1;32m      5\u001b[0m     d\u001b[38;5;241m=\u001b[39m n\u001b[38;5;241m%\u001b[39m\u001b[38;5;241m10\u001b[39m\n\u001b[0;32m----> 6\u001b[0m     r\u001b[38;5;241m=\u001b[39md\u001b[38;5;241m*\u001b[39m\u001b[38;5;241m*\u001b[39ma \u001b[38;5;241m+\u001b[39m \u001b[43marmstrong\u001b[49m\u001b[43m(\u001b[49m\u001b[43mn\u001b[49m\u001b[38;5;241;43m/\u001b[39;49m\u001b[38;5;241;43m/\u001b[39;49m\u001b[38;5;241;43m10\u001b[39;49m\u001b[43m,\u001b[49m\u001b[43m \u001b[49m\u001b[43ma\u001b[49m\u001b[43m)\u001b[49m\n\u001b[1;32m      7\u001b[0m     \u001b[38;5;28;01mreturn\u001b[39;00m \u001b[38;5;124mf\u001b[39m\u001b[38;5;124m'\u001b[39m\u001b[38;5;124mjhfc\u001b[39m\u001b[38;5;124m'\u001b[39m\n",
      "Cell \u001b[0;32mIn[40], line 6\u001b[0m, in \u001b[0;36marmstrong\u001b[0;34m(n, a)\u001b[0m\n\u001b[1;32m      4\u001b[0m \u001b[38;5;28;01melse\u001b[39;00m:\n\u001b[1;32m      5\u001b[0m     d\u001b[38;5;241m=\u001b[39m n\u001b[38;5;241m%\u001b[39m\u001b[38;5;241m10\u001b[39m\n\u001b[0;32m----> 6\u001b[0m     r\u001b[38;5;241m=\u001b[39m\u001b[43md\u001b[49m\u001b[38;5;241;43m*\u001b[39;49m\u001b[38;5;241;43m*\u001b[39;49m\u001b[43ma\u001b[49m\u001b[43m \u001b[49m\u001b[38;5;241;43m+\u001b[39;49m\u001b[43m \u001b[49m\u001b[43marmstrong\u001b[49m\u001b[43m(\u001b[49m\u001b[43mn\u001b[49m\u001b[38;5;241;43m/\u001b[39;49m\u001b[38;5;241;43m/\u001b[39;49m\u001b[38;5;241;43m10\u001b[39;49m\u001b[43m,\u001b[49m\u001b[43m \u001b[49m\u001b[43ma\u001b[49m\u001b[43m)\u001b[49m\n\u001b[1;32m      7\u001b[0m     \u001b[38;5;28;01mreturn\u001b[39;00m \u001b[38;5;124mf\u001b[39m\u001b[38;5;124m'\u001b[39m\u001b[38;5;124mjhfc\u001b[39m\u001b[38;5;124m'\u001b[39m\n",
      "\u001b[0;31mTypeError\u001b[0m: unsupported operand type(s) for +: 'int' and 'str'"
     ]
    }
   ],
   "source": [
    "armstrong(153, 3)"
   ]
  },
  {
   "cell_type": "code",
   "execution_count": null,
   "id": "d3d05b65-d73f-4b57-a788-5495394623d3",
   "metadata": {},
   "outputs": [],
   "source": []
  }
 ],
 "metadata": {
  "kernelspec": {
   "display_name": "Python 3 (ipykernel)",
   "language": "python",
   "name": "python3"
  },
  "language_info": {
   "codemirror_mode": {
    "name": "ipython",
    "version": 3
   },
   "file_extension": ".py",
   "mimetype": "text/x-python",
   "name": "python",
   "nbconvert_exporter": "python",
   "pygments_lexer": "ipython3",
   "version": "3.10.8"
  }
 },
 "nbformat": 4,
 "nbformat_minor": 5
}
