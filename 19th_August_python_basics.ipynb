{
 "cells": [
  {
   "cell_type": "code",
   "execution_count": null,
   "id": "5925cff6-63e7-4a87-9288-66d91f0f5668",
   "metadata": {},
   "outputs": [],
   "source": [
    "#TOPIC = Python Basics Variable\n"
   ]
  },
  {
   "cell_type": "code",
   "execution_count": 24,
   "id": "764c5003-207c-48e7-89f4-59c6ecdc92cb",
   "metadata": {},
   "outputs": [
    {
     "name": "stdout",
     "output_type": "stream",
     "text": [
      "after swapping 6 5\n"
     ]
    }
   ],
   "source": [
    "\n",
    "#Question no 1\n",
    "\n",
    "x=5\n",
    "y=6\n",
    "def swap_variables(x,y):\n",
    "    x,y=y,x\n",
    "print('after swapping', y,x)"
   ]
  },
  {
   "cell_type": "code",
   "execution_count": null,
   "id": "6b010375-0231-46b5-b651-e4d8bbc039e3",
   "metadata": {},
   "outputs": [],
   "source": []
  },
  {
   "cell_type": "code",
   "execution_count": 19,
   "id": "b9021a08-8a87-4bbe-b8bc-62660fa6f391",
   "metadata": {},
   "outputs": [
    {
     "data": {
      "text/plain": [
       "(6, 5)"
      ]
     },
     "execution_count": 19,
     "metadata": {},
     "output_type": "execute_result"
    }
   ],
   "source": [
    "x , y"
   ]
  },
  {
   "cell_type": "code",
   "execution_count": 20,
   "id": "ea092e35-a638-490e-a881-ce37cd48665b",
   "metadata": {},
   "outputs": [
    {
     "name": "stdin",
     "output_type": "stream",
     "text": [
      "enter the length 10\n",
      "enter the breadth 5\n"
     ]
    },
    {
     "name": "stdout",
     "output_type": "stream",
     "text": [
      "the area is  50.0\n"
     ]
    }
   ],
   "source": [
    "#Question no 2\n",
    "\n",
    "l=float(input('enter the length'))\n",
    "b=float(input('enter the breadth'))\n",
    "area = l*b\n",
    "print( 'the area is ' , area)"
   ]
  },
  {
   "cell_type": "code",
   "execution_count": null,
   "id": "ddcadba4-800e-48e6-8544-f2cb76ac2451",
   "metadata": {},
   "outputs": [],
   "source": []
  },
  {
   "cell_type": "code",
   "execution_count": 25,
   "id": "707ed6f0-cac5-47ac-aa8b-c41c9a42bc29",
   "metadata": {},
   "outputs": [
    {
     "name": "stdin",
     "output_type": "stream",
     "text": [
      "enter the temperature 32\n"
     ]
    },
    {
     "name": "stdout",
     "output_type": "stream",
     "text": [
      "the temperature in farenheit is 65.8\n"
     ]
    }
   ],
   "source": [
    "#Question no 3\n",
    "c=float(input('enter the temperature'))\n",
    "f=(c+9/5)+32\n",
    "print('the temperature in farenheit is',f)"
   ]
  },
  {
   "cell_type": "code",
   "execution_count": null,
   "id": "86494c4e-09bd-47c9-becf-4e24f1962e5d",
   "metadata": {},
   "outputs": [],
   "source": []
  },
  {
   "cell_type": "code",
   "execution_count": null,
   "id": "63005625-dff3-40d9-be2d-b1c82c41360a",
   "metadata": {},
   "outputs": [],
   "source": []
  },
  {
   "cell_type": "code",
   "execution_count": null,
   "id": "7b240adb-0e80-40db-9a14-59560078c4c2",
   "metadata": {},
   "outputs": [],
   "source": []
  },
  {
   "cell_type": "code",
   "execution_count": 26,
   "id": "1bfe7c71-6316-480b-bf4b-2dba7d80d9ec",
   "metadata": {},
   "outputs": [],
   "source": [
    "#TOPIC = String based question\n"
   ]
  },
  {
   "cell_type": "code",
   "execution_count": 28,
   "id": "c2e9bc3c-f7ab-43c4-b489-659a4b847069",
   "metadata": {},
   "outputs": [
    {
     "name": "stdin",
     "output_type": "stream",
     "text": [
      "enter any string Hello world\n"
     ]
    },
    {
     "name": "stdout",
     "output_type": "stream",
     "text": [
      "the length of the string is 11\n"
     ]
    }
   ],
   "source": [
    "#Question no 1\n",
    "a=input('enter any string')\n",
    "b=len(a)\n",
    "print('the length of the string is', b)"
   ]
  },
  {
   "cell_type": "code",
   "execution_count": null,
   "id": "6c9620f4-7382-4393-86dd-c5fd9885b0b2",
   "metadata": {},
   "outputs": [],
   "source": []
  },
  {
   "cell_type": "code",
   "execution_count": 42,
   "id": "4526ae7a-a095-4707-865f-768b3d26a2d0",
   "metadata": {},
   "outputs": [
    {
     "name": "stdin",
     "output_type": "stream",
     "text": [
      "enter a sentence good morning\n"
     ]
    },
    {
     "name": "stdout",
     "output_type": "stream",
     "text": [
      "number of vowels 1\n",
      "number of vowels 2\n",
      "number of vowels 3\n",
      "number of vowels 4\n"
     ]
    }
   ],
   "source": [
    "#Question no 2\n",
    "\n",
    "A = input(\"enter a sentence\")\n",
    "vc=0\n",
    "for char in A:\n",
    "    char_lower=char.lower()\n",
    "    if char_lower in \"aeiou\":\n",
    "        vc += 1\n",
    "        print(\"number of vowels\", vc)"
   ]
  },
  {
   "cell_type": "code",
   "execution_count": 44,
   "id": "bd16b642-a908-43a6-87e7-44abf0365726",
   "metadata": {},
   "outputs": [
    {
     "name": "stdin",
     "output_type": "stream",
     "text": [
      "enter a string hello\n"
     ]
    },
    {
     "name": "stdout",
     "output_type": "stream",
     "text": [
      "the reversed string is olleh\n"
     ]
    }
   ],
   "source": [
    "#Question no 3\n",
    "a=input('enter a string')\n",
    "reverse_string=a[::-1]\n",
    "print('the reversed string is', reverse_string)\n"
   ]
  },
  {
   "cell_type": "code",
   "execution_count": null,
   "id": "1d23ad55-6b62-43c7-a9c2-9cd1d5bac3a4",
   "metadata": {},
   "outputs": [],
   "source": []
  },
  {
   "cell_type": "code",
   "execution_count": 53,
   "id": "a00d540f-fed4-4692-8221-a903f77e825a",
   "metadata": {},
   "outputs": [
    {
     "name": "stdin",
     "output_type": "stream",
     "text": [
      "enter a string ULU\n"
     ]
    },
    {
     "name": "stdout",
     "output_type": "stream",
     "text": [
      "the string is palindrome ULU\n"
     ]
    }
   ],
   "source": [
    "#Question no 4\n",
    "a=input('enter a string')\n",
    "org=a[::]\n",
    "rev=a[::-1]\n",
    "if org==rev:\n",
    "    print('the string is palindrome',a)\n",
    "else:\n",
    "    print ('not palindrome',a)  "
   ]
  },
  {
   "cell_type": "code",
   "execution_count": null,
   "id": "c814eebe-d199-4255-a349-b6b6194690a4",
   "metadata": {},
   "outputs": [],
   "source": []
  },
  {
   "cell_type": "code",
   "execution_count": 58,
   "id": "264b2e93-10fc-400f-8ad7-0ed2adac40d9",
   "metadata": {},
   "outputs": [
    {
     "name": "stdin",
     "output_type": "stream",
     "text": [
      "enter a string helloworld\n"
     ]
    },
    {
     "name": "stdout",
     "output_type": "stream",
     "text": [
      "modified string without char helloworld\n"
     ]
    }
   ],
   "source": [
    "#Question no 5\n",
    "a=input('enter a string')\n",
    "b=''\n",
    "for char in a :\n",
    "    if char!=' ': \n",
    "        b+=char\n",
    "print('modified string without char', b)"
   ]
  },
  {
   "cell_type": "code",
   "execution_count": null,
   "id": "0bf34937-1033-42eb-8d78-68ede37eb262",
   "metadata": {},
   "outputs": [],
   "source": []
  }
 ],
 "metadata": {
  "kernelspec": {
   "display_name": "Python 3 (ipykernel)",
   "language": "python",
   "name": "python3"
  },
  "language_info": {
   "codemirror_mode": {
    "name": "ipython",
    "version": 3
   },
   "file_extension": ".py",
   "mimetype": "text/x-python",
   "name": "python",
   "nbconvert_exporter": "python",
   "pygments_lexer": "ipython3",
   "version": "3.10.8"
  }
 },
 "nbformat": 4,
 "nbformat_minor": 5
}
