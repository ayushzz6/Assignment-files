{
 "cells": [
  {
   "cell_type": "code",
   "execution_count": 1,
   "id": "51b6c679-8a78-4b00-8fba-db690b2db1f6",
   "metadata": {},
   "outputs": [],
   "source": [
    "#Basic If-Else Statements:"
   ]
  },
  {
   "cell_type": "code",
   "execution_count": 2,
   "id": "3dd018ba-b709-4d54-bab6-1c906e58ff6c",
   "metadata": {},
   "outputs": [],
   "source": [
    "#1. Write a Python program to check if a given number is positive or negative."
   ]
  },
  {
   "cell_type": "code",
   "execution_count": 7,
   "id": "03bc9978-1851-4331-9abc-55c8b02832de",
   "metadata": {},
   "outputs": [
    {
     "name": "stdin",
     "output_type": "stream",
     "text": [
      "enter number 4\n"
     ]
    },
    {
     "name": "stdout",
     "output_type": "stream",
     "text": [
      "no is positive 4\n"
     ]
    }
   ],
   "source": [
    "a=int(input('enter number'))\n",
    "if a>=0:\n",
    "    print('no is positive',a)\n",
    "else:\n",
    "    print('no is negative',a)"
   ]
  },
  {
   "cell_type": "code",
   "execution_count": null,
   "id": "4bd36b39-0362-4dd8-884d-e25802ddc463",
   "metadata": {},
   "outputs": [],
   "source": []
  },
  {
   "cell_type": "code",
   "execution_count": 6,
   "id": "ab40cfc9-b5e0-455f-ad95-bf2c40978e56",
   "metadata": {},
   "outputs": [],
   "source": [
    "#2. Create a program that determines if a person is eligible to vote based on their age."
   ]
  },
  {
   "cell_type": "code",
   "execution_count": 8,
   "id": "de18ee26-e373-4aad-b16e-551ee200a88d",
   "metadata": {},
   "outputs": [
    {
     "name": "stdin",
     "output_type": "stream",
     "text": [
      "enter age 19\n"
     ]
    },
    {
     "name": "stdout",
     "output_type": "stream",
     "text": [
      "eligible to vote 19\n"
     ]
    }
   ],
   "source": [
    "a=int(input('enter age'))\n",
    "if a>=18:\n",
    "    print('eligible to vote',a)\n",
    "else:\n",
    "    print('not eligible',a)"
   ]
  },
  {
   "cell_type": "code",
   "execution_count": null,
   "id": "54b5135a-4736-4501-97ba-b02e6f3a2cc2",
   "metadata": {},
   "outputs": [],
   "source": []
  },
  {
   "cell_type": "code",
   "execution_count": 9,
   "id": "c11e8945-2c32-42d1-963e-bfe067477b78",
   "metadata": {},
   "outputs": [],
   "source": [
    "#4. Write a Python script to classify a given year as a leap year or not."
   ]
  },
  {
   "cell_type": "code",
   "execution_count": 14,
   "id": "bc608665-ab44-4b81-abdc-0a18b07625c5",
   "metadata": {},
   "outputs": [
    {
     "name": "stdin",
     "output_type": "stream",
     "text": [
      "enter year 1900\n"
     ]
    },
    {
     "name": "stdout",
     "output_type": "stream",
     "text": [
      "leap year 1900\n"
     ]
    }
   ],
   "source": [
    "a=int(input('enter year'))\n",
    "if a%4==0 and a%100==0 and a%400==0:\n",
    "    print('leap year',a)\n",
    "elif a%4==0:\n",
    "    print('leap year',a)\n",
    "else:\n",
    "    print('not leapyear',a)"
   ]
  },
  {
   "cell_type": "code",
   "execution_count": null,
   "id": "0a689cc3-66e6-4350-a5c3-35c888b3d3b4",
   "metadata": {},
   "outputs": [],
   "source": []
  },
  {
   "cell_type": "code",
   "execution_count": 15,
   "id": "860e9813-36ea-4d76-9eea-9139e99b248c",
   "metadata": {},
   "outputs": [],
   "source": [
    "#8. Develop a program that determines the largest of three given numbers using if-else statements."
   ]
  },
  {
   "cell_type": "code",
   "execution_count": 19,
   "id": "6b984441-b0be-48cb-b3e7-f6a9932ffbed",
   "metadata": {},
   "outputs": [
    {
     "name": "stdin",
     "output_type": "stream",
     "text": [
      " no 55\n",
      "no 44\n",
      "no 99\n"
     ]
    },
    {
     "name": "stdout",
     "output_type": "stream",
     "text": [
      "largest 99\n"
     ]
    }
   ],
   "source": [
    "a=int(input(' no'))\n",
    "b=int(input( 'no'))\n",
    "c=int(input( 'no'))\n",
    "if a>b and a>c:\n",
    "    print('largest',a)\n",
    "elif b>c and b>a:\n",
    "    print('largest',b)\n",
    "else:\n",
    "    print('largest',c)"
   ]
  },
  {
   "cell_type": "code",
   "execution_count": null,
   "id": "0ce58f93-f34b-4af9-8677-2716a76c59c5",
   "metadata": {},
   "outputs": [],
   "source": []
  },
  {
   "cell_type": "code",
   "execution_count": 20,
   "id": "aff5cbca-64a6-4070-b9f5-3df69f71eff9",
   "metadata": {},
   "outputs": [],
   "source": [
    "#9. Create a program that checks if a given string is a palindrome."
   ]
  },
  {
   "cell_type": "code",
   "execution_count": 46,
   "id": "6fd7bb66-2bf9-4739-b787-9604c66e76b6",
   "metadata": {},
   "outputs": [
    {
     "name": "stdin",
     "output_type": "stream",
     "text": [
      "enter a string level\n"
     ]
    },
    {
     "name": "stdout",
     "output_type": "stream",
     "text": [
      "pallindrome level\n"
     ]
    }
   ],
   "source": [
    "a=input('enter a string')\n",
    "b=list(a)\n",
    "c=b[0:]\n",
    "d=b[-1::-1]\n",
    "if c==d:\n",
    "    print('pallindrome',a)\n",
    "else:\n",
    "    print('not pallinrome',a)"
   ]
  },
  {
   "cell_type": "code",
   "execution_count": null,
   "id": "b3dcb9f9-b1b0-4f2d-8bcc-510a0bb6fe35",
   "metadata": {},
   "outputs": [],
   "source": []
  },
  {
   "cell_type": "code",
   "execution_count": 47,
   "id": "45aa6988-802a-412f-8021-6024d8d35549",
   "metadata": {},
   "outputs": [],
   "source": [
    "#10. Write a Python program to calculate the grade based on a student's score."
   ]
  },
  {
   "cell_type": "code",
   "execution_count": 60,
   "id": "b304fc99-e95a-4c18-b8c0-3662fc04be33",
   "metadata": {},
   "outputs": [
    {
     "name": "stdin",
     "output_type": "stream",
     "text": [
      "enter pecentage 98\n"
     ]
    },
    {
     "name": "stdout",
     "output_type": "stream",
     "text": [
      "1st 98\n"
     ]
    }
   ],
   "source": [
    "a=int(input('enter pecentage'))\n",
    "if 0 <= a <=60:\n",
    "    print('fail',a)\n",
    "elif a>=90:\n",
    "    print('1st',a)\n",
    "elif a>=75:\n",
    "    print('2nd',a)\n",
    "else:\n",
    "    print('3rd',a)"
   ]
  },
  {
   "cell_type": "code",
   "execution_count": null,
   "id": "e4174a46-1173-4138-8248-ea05d8dd86a9",
   "metadata": {},
   "outputs": [],
   "source": []
  },
  {
   "cell_type": "code",
   "execution_count": 61,
   "id": "e74e8c61-b492-4179-9f1f-468a4f7ddf4a",
   "metadata": {},
   "outputs": [],
   "source": [
    "#Nested If-Else Statements:"
   ]
  },
  {
   "cell_type": "code",
   "execution_count": 62,
   "id": "0d7e795d-88ef-4eda-b81f-5251794a7118",
   "metadata": {},
   "outputs": [],
   "source": [
    "#11. Write a program to find the largest among three numbers using nested if-else statements."
   ]
  },
  {
   "cell_type": "code",
   "execution_count": 64,
   "id": "b705bfdf-5be2-42b6-8913-ae8c7da71115",
   "metadata": {},
   "outputs": [
    {
     "name": "stdin",
     "output_type": "stream",
     "text": [
      "enter no 8\n",
      "enter no 5\n",
      "enter no 4\n"
     ]
    },
    {
     "name": "stdout",
     "output_type": "stream",
     "text": [
      "largest 8\n"
     ]
    }
   ],
   "source": [
    "a=int(input('enter no'))\n",
    "b=int(input('enter no'))\n",
    "c=int(input('enter no'))\n",
    "if a>b:\n",
    "    if a>c:\n",
    "        print('largest',a)\n",
    "    else:\n",
    "        print('largest',c)\n",
    "else:\n",
    "    if b>c:\n",
    "        print('largest',b)\n",
    "    else:\n",
    "        print('largest',c)"
   ]
  },
  {
   "cell_type": "code",
   "execution_count": null,
   "id": "246ef807-3b53-40d1-9a48-36e84c68f3c4",
   "metadata": {},
   "outputs": [],
   "source": []
  },
  {
   "cell_type": "code",
   "execution_count": 65,
   "id": "c137dcd7-2c80-4730-9273-352eca1f0615",
   "metadata": {},
   "outputs": [],
   "source": [
    "#14. Write a Python script to determine if a number is positive, negative, or zero."
   ]
  },
  {
   "cell_type": "code",
   "execution_count": 69,
   "id": "a90d49eb-1b37-43b1-b002-15d8448671ba",
   "metadata": {},
   "outputs": [
    {
     "name": "stdin",
     "output_type": "stream",
     "text": [
      "enter no 6\n"
     ]
    },
    {
     "name": "stdout",
     "output_type": "stream",
     "text": [
      "positive 6\n"
     ]
    }
   ],
   "source": [
    "a=int(input('enter no'))\n",
    "if a!=0:\n",
    "    if a>0:\n",
    "        print('positive',a)\n",
    "    else:\n",
    "        print('negative',a)\n",
    "else:\n",
    "    print('zero',a)"
   ]
  },
  {
   "cell_type": "code",
   "execution_count": null,
   "id": "3266345f-0c5b-4602-9fe8-3e2f5e37ce48",
   "metadata": {},
   "outputs": [],
   "source": []
  },
  {
   "cell_type": "code",
   "execution_count": 70,
   "id": "ea8e10b2-14cb-42a4-a297-159944169548",
   "metadata": {},
   "outputs": [],
   "source": [
    "#15. Create a program to check if a person is a teenager (between 13 and 19 years old)."
   ]
  },
  {
   "cell_type": "code",
   "execution_count": 73,
   "id": "59a7d91e-28d2-41e8-a121-ca49855bbb54",
   "metadata": {},
   "outputs": [
    {
     "name": "stdin",
     "output_type": "stream",
     "text": [
      "enter no 18\n"
     ]
    },
    {
     "name": "stdout",
     "output_type": "stream",
     "text": [
      "teenager 18\n"
     ]
    }
   ],
   "source": [
    "a=int(input('enter no'))\n",
    "if a>0:\n",
    "    if 13<a<19:\n",
    "        print('teenager',a)\n",
    "    else:\n",
    "        print('not a teen',a)\n",
    "else:\n",
    "    print('invalid entry',a)"
   ]
  },
  {
   "cell_type": "code",
   "execution_count": null,
   "id": "dd80d2d4-f67e-4729-94af-5a42fc43d6c3",
   "metadata": {},
   "outputs": [],
   "source": []
  },
  {
   "cell_type": "code",
   "execution_count": 74,
   "id": "9237413d-7ea5-4ebc-b00d-16b20c608298",
   "metadata": {},
   "outputs": [],
   "source": [
    "#20. Develop a program that checks if a given number is prime or not using nested if-else statements."
   ]
  },
  {
   "cell_type": "code",
   "execution_count": 92,
   "id": "b9905737-e090-478a-b012-9e71ff3b626f",
   "metadata": {},
   "outputs": [
    {
     "name": "stdin",
     "output_type": "stream",
     "text": [
      "enter no 9\n"
     ]
    },
    {
     "name": "stdout",
     "output_type": "stream",
     "text": [
      "prime 9\n",
      "prime 9\n"
     ]
    }
   ],
   "source": [
    "a=int(input('enter no'))\n",
    "c=0\n",
    "if a%1==0:\n",
    "    for i in range(1,a+1):\n",
    "        if a % i == 0:\n",
    "            c=c+1\n",
    "            if c<3:\n",
    "                print ('prime',a)\n",
    "        else:\n",
    "            pass\n",
    "else:\n",
    "    print('invalid entry',a)"
   ]
  },
  {
   "cell_type": "code",
   "execution_count": 89,
   "id": "88aad9e2-960b-47d7-8ab0-d69ba3e08db7",
   "metadata": {},
   "outputs": [
    {
     "data": {
      "text/plain": [
       "[1, 2, 3, 4, 5]"
      ]
     },
     "execution_count": 89,
     "metadata": {},
     "output_type": "execute_result"
    }
   ],
   "source": [
    "list(range(1,6))"
   ]
  },
  {
   "cell_type": "code",
   "execution_count": null,
   "id": "f85f8877-3db2-464e-bdda-21ccd10826b3",
   "metadata": {},
   "outputs": [],
   "source": []
  },
  {
   "cell_type": "code",
   "execution_count": 1,
   "id": "82b5e474-46c0-4155-9516-39da6c58f932",
   "metadata": {},
   "outputs": [],
   "source": [
    "#Intermediate Level:"
   ]
  },
  {
   "cell_type": "code",
   "execution_count": null,
   "id": "70d3f245-12d5-473d-be44-75685a85171e",
   "metadata": {},
   "outputs": [],
   "source": [
    "#12. Create a program that determines the day of the week based on the day number (1-7)."
   ]
  },
  {
   "cell_type": "code",
   "execution_count": 5,
   "id": "827692a4-cc49-4f98-947b-a384fcae2508",
   "metadata": {},
   "outputs": [
    {
     "name": "stdin",
     "output_type": "stream",
     "text": [
      "enter no 2\n"
     ]
    },
    {
     "name": "stdout",
     "output_type": "stream",
     "text": [
      "monday\n"
     ]
    }
   ],
   "source": [
    "a=int(input('enter no'))\n",
    "if a==1:\n",
    "    print('sunday')\n",
    "elif a==2:\n",
    "    print('monday')\n",
    "elif a==3:\n",
    "    print('tuesday')\n",
    "elif a==4:\n",
    "    print('wednesday')\n",
    "elif a==5:\n",
    "    print('thrusday')\n",
    "elif a==6:\n",
    "    print('friday')\n",
    "elif a==7:\n",
    "    print('sat')\n",
    "else:\n",
    "    print('invalid no')"
   ]
  },
  {
   "cell_type": "code",
   "execution_count": null,
   "id": "9dd13d13-a8dc-43bc-a39e-2076d21880e2",
   "metadata": {},
   "outputs": [],
   "source": []
  },
  {
   "cell_type": "code",
   "execution_count": 6,
   "id": "68bfdefa-709b-4f3f-8259-34e65e80554c",
   "metadata": {},
   "outputs": [],
   "source": [
    "#13. Develop a program that calculates the factorial of a given number using recursion."
   ]
  },
  {
   "cell_type": "code",
   "execution_count": 7,
   "id": "cd19bc24-c49e-4345-b608-fad5c7023f58",
   "metadata": {},
   "outputs": [],
   "source": [
    "def fact(n):\n",
    "    if n==1:\n",
    "        return 1\n",
    "    else:\n",
    "        return n*fact(n-1)"
   ]
  },
  {
   "cell_type": "code",
   "execution_count": 8,
   "id": "a9c8cd70-3d02-4292-a32b-c4af3f957fad",
   "metadata": {},
   "outputs": [
    {
     "data": {
      "text/plain": [
       "120"
      ]
     },
     "execution_count": 8,
     "metadata": {},
     "output_type": "execute_result"
    }
   ],
   "source": [
    "fact(5)"
   ]
  },
  {
   "cell_type": "code",
   "execution_count": null,
   "id": "6eb0a6d6-4091-455e-8d38-24369feed9e7",
   "metadata": {},
   "outputs": [],
   "source": []
  },
  {
   "cell_type": "code",
   "execution_count": 9,
   "id": "ec0900ee-d261-40cb-859e-d5ff32464130",
   "metadata": {},
   "outputs": [],
   "source": [
    "#15. Create a program that simulates a basic ATM transaction menu.\n"
   ]
  },
  {
   "cell_type": "code",
   "execution_count": 35,
   "id": "b7983dfc-6331-4849-887a-4326b8c91c36",
   "metadata": {},
   "outputs": [],
   "source": [
    "def atm():\n",
    "    b=1000\n",
    "    l=[1,2,3,4]\n",
    "    i=int(input('enter choice'))\n",
    "    if i == 1:\n",
    "        wa=int(input('enter withdraw amount'))\n",
    "        if wa <= b:\n",
    "            b=b-1\n",
    "            print('withdraw succes',wa)\n",
    "        else:\n",
    "            print('not enoug balance')\n",
    "    elif i == 2:\n",
    "        b=b+int(input('enter amount to deposit'))\n",
    "        print('deposit succes',b)\n",
    "    elif i == 3:\n",
    "        print('balamce is ', b)\n",
    "    elif i == 4:\n",
    "        print('exit done')\n",
    "    else:\n",
    "        print('invalid entry')"
   ]
  },
  {
   "cell_type": "code",
   "execution_count": 46,
   "id": "0eff4180-e67a-46ca-ae15-6459f094c3e6",
   "metadata": {},
   "outputs": [
    {
     "name": "stdin",
     "output_type": "stream",
     "text": [
      "enter choice 2\n",
      "enter amount to deposit 500\n"
     ]
    },
    {
     "name": "stdout",
     "output_type": "stream",
     "text": [
      "deposit succes 1500\n"
     ]
    }
   ],
   "source": [
    "atm()"
   ]
  },
  {
   "cell_type": "code",
   "execution_count": null,
   "id": "5ed7750b-7cf3-406b-b33a-3e50d334e0fb",
   "metadata": {},
   "outputs": [],
   "source": []
  },
  {
   "cell_type": "code",
   "execution_count": null,
   "id": "c31d036e-c572-4c47-a62f-47a396aa6387",
   "metadata": {},
   "outputs": [],
   "source": [
    "#16. Build a program that checks if a given string is a palindrome or not."
   ]
  },
  {
   "cell_type": "code",
   "execution_count": 48,
   "id": "042b8071-b203-42ae-b074-32d922038bfb",
   "metadata": {},
   "outputs": [
    {
     "name": "stdin",
     "output_type": "stream",
     "text": [
      "enter a string level\n"
     ]
    },
    {
     "name": "stdout",
     "output_type": "stream",
     "text": [
      "pallindrome level\n"
     ]
    }
   ],
   "source": [
    "a=input('enter a string')\n",
    "b=list(a)\n",
    "c=b[0:]\n",
    "d=b[-1::-1]\n",
    "if c==d:\n",
    "    print('pallindrome',a)\n",
    "else:\n",
    "    print('not pallinrome',a)"
   ]
  },
  {
   "cell_type": "code",
   "execution_count": null,
   "id": "4296ad3e-f80c-4a92-b3f8-cd9f66442424",
   "metadata": {},
   "outputs": [],
   "source": []
  },
  {
   "cell_type": "code",
   "execution_count": 49,
   "id": "b0a5d719-d380-4bce-8677-0f34dc4fbf6f",
   "metadata": {},
   "outputs": [],
   "source": [
    "#19. Create a program that simulates a basic calculator for addition, subtraction, multiplication, and division."
   ]
  },
  {
   "cell_type": "code",
   "execution_count": 58,
   "id": "dce41b4e-7433-453e-a8ac-f5ff435feb07",
   "metadata": {},
   "outputs": [
    {
     "name": "stdin",
     "output_type": "stream",
     "text": [
      "enter 1st number 1\n",
      "enter 2nd number 6\n",
      "operator *\n"
     ]
    },
    {
     "name": "stdout",
     "output_type": "stream",
     "text": [
      "6\n"
     ]
    }
   ],
   "source": [
    "a=int(input('enter 1st number'))\n",
    "b=int(input('enter 2nd number'))\n",
    "i=input('operator')\n",
    "if i == '+':\n",
    "    e= a + b\n",
    "    print(e)\n",
    "elif i == '-':\n",
    "    e=a-b\n",
    "    print(e)\n",
    "elif i == '*':\n",
    "    e=a*b\n",
    "    print(e)\n",
    "elif i == '/':\n",
    "    e=a/b\n",
    "    print(e)\n",
    "else:\n",
    "    print('invalid operator')"
   ]
  },
  {
   "cell_type": "code",
   "execution_count": null,
   "id": "bc9c459e-b169-4adb-9ef5-0811ce3c084d",
   "metadata": {},
   "outputs": [],
   "source": []
  },
  {
   "cell_type": "code",
   "execution_count": 59,
   "id": "bd2fb899-7769-43dc-8ded-938b13200698",
   "metadata": {},
   "outputs": [],
   "source": [
    "#21. Create a program that calculates the income tax based on the user's income and tax brackets."
   ]
  },
  {
   "cell_type": "code",
   "execution_count": 62,
   "id": "a2e0d9ca-6c06-40c9-8ff3-8727990f146d",
   "metadata": {},
   "outputs": [
    {
     "name": "stdin",
     "output_type": "stream",
     "text": [
      "enter the total income 2500000\n"
     ]
    },
    {
     "name": "stdout",
     "output_type": "stream",
     "text": [
      "125000.0\n"
     ]
    }
   ],
   "source": [
    "a=int(input('enter the total income'))\n",
    "itr=0\n",
    "if a<=750000:\n",
    "    print('no itr needed')\n",
    "elif a>=750000:\n",
    "    itr=a*0.05\n",
    "    print(itr)\n",
    "elif a>=2000000:\n",
    "    itr=a*0.15\n",
    "    print(a)\n",
    "elif a>= 5000000:\n",
    "    itr= a*.3\n",
    "    print(a)\n",
    "else:\n",
    "    print(a*0.3)"
   ]
  },
  {
   "cell_type": "code",
   "execution_count": null,
   "id": "74346a62-97b9-405e-9b38-bffa8b7294b6",
   "metadata": {},
   "outputs": [],
   "source": []
  },
  {
   "cell_type": "code",
   "execution_count": 64,
   "id": "a6080ae9-ea0c-4439-9d5f-ef96ef1e3b8c",
   "metadata": {},
   "outputs": [],
   "source": [
    "#28. Create a program that sorts three numbers in ascending order using conditional statements.#"
   ]
  },
  {
   "cell_type": "code",
   "execution_count": 71,
   "id": "95ec9e19-76ec-4d5c-9510-07572cc48dc4",
   "metadata": {},
   "outputs": [
    {
     "name": "stdin",
     "output_type": "stream",
     "text": [
      "Enter the first number:  1\n",
      "Enter the second number:  8\n",
      "Enter the third number:  5\n"
     ]
    },
    {
     "name": "stdout",
     "output_type": "stream",
     "text": [
      "Sorted numbers in ascending order: (1.0, 5.0, 8.0)\n"
     ]
    }
   ],
   "source": [
    "num1 = float(input(\"Enter the first number: \"))\n",
    "num2 = float(input(\"Enter the second number: \"))\n",
    "num3 = float(input(\"Enter the third number: \"))\n",
    "\n",
    "if num1 <= num2 <= num3:\n",
    "    sorted_nums = (num1, num2, num3)\n",
    "elif num1 <= num3 <= num2:\n",
    "    sorted_nums = (num1, num3, num2)\n",
    "elif num2 <= num1 <= num3:\n",
    "    sorted_nums = (num2, num1, num3)\n",
    "elif num2 <= num3 <= num1:\n",
    "    sorted_nums = (num2, num3, num1)\n",
    "elif num3 <= num1 <= num2:\n",
    "    sorted_nums = (num3, num1, num2)\n",
    "else:\n",
    "    sorted_nums = (num3, num2, num1)\n",
    "\n",
    "print(\"Sorted numbers in ascending order:\", sorted_nums)\n",
    "\n"
   ]
  },
  {
   "cell_type": "code",
   "execution_count": null,
   "id": "9015e52f-bf23-48ed-95e7-6665972d4fb2",
   "metadata": {},
   "outputs": [],
   "source": []
  },
  {
   "cell_type": "code",
   "execution_count": 72,
   "id": "6b1ad1f5-b830-4247-959e-395d499d29c5",
   "metadata": {},
   "outputs": [],
   "source": [
    "#Challenge Level:"
   ]
  },
  {
   "cell_type": "code",
   "execution_count": null,
   "id": "4d6d053c-df8d-4cf1-9063-60dc9462c433",
   "metadata": {},
   "outputs": [],
   "source": []
  },
  {
   "cell_type": "code",
   "execution_count": 73,
   "id": "e83f60f0-b3da-48b1-8db8-3c5c3f376db5",
   "metadata": {},
   "outputs": [],
   "source": [
    "#31. Create a program that validates a password based on complexity rules (length, characters, etc.)."
   ]
  },
  {
   "cell_type": "code",
   "execution_count": 89,
   "id": "48683b4c-d2cb-4f66-9ce0-724b649985ff",
   "metadata": {},
   "outputs": [
    {
     "name": "stdin",
     "output_type": "stream",
     "text": [
      "enter a new password dhsdhs@#646\n"
     ]
    },
    {
     "name": "stdout",
     "output_type": "stream",
     "text": [
      "invalid dhsdhs@#646\n"
     ]
    }
   ],
   "source": [
    "a=input('enter a new password')\n",
    "b=list(a)\n",
    "c=len(a)\n",
    "if c >= 10:\n",
    "    for i in b:\n",
    "        if i ==['!,@,#,%,^,1,2,3,4,5,6,7,8,9']:\n",
    "            print('valid password',a)\n",
    "        else:\n",
    "            print('invalid',a)\n",
    "            break\n",
    "else:\n",
    "    print('not desired len')\n",
    "            "
   ]
  },
  {
   "cell_type": "code",
   "execution_count": null,
   "id": "9281136f-ee9b-417e-871c-abd453510a5a",
   "metadata": {},
   "outputs": [],
   "source": []
  },
  {
   "cell_type": "code",
   "execution_count": null,
   "id": "210e6f23-354c-471b-8472-02827ad69e9b",
   "metadata": {},
   "outputs": [],
   "source": []
  }
 ],
 "metadata": {
  "kernelspec": {
   "display_name": "Python 3 (ipykernel)",
   "language": "python",
   "name": "python3"
  },
  "language_info": {
   "codemirror_mode": {
    "name": "ipython",
    "version": 3
   },
   "file_extension": ".py",
   "mimetype": "text/x-python",
   "name": "python",
   "nbconvert_exporter": "python",
   "pygments_lexer": "ipython3",
   "version": "3.10.8"
  }
 },
 "nbformat": 4,
 "nbformat_minor": 5
}
