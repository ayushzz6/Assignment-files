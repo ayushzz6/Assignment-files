{
 "cells": [
  {
   "cell_type": "code",
   "execution_count": null,
   "id": "ac8d65e3-16c7-48ee-9899-39b55fdf9dc1",
   "metadata": {},
   "outputs": [],
   "source": [
    "#TOPIC = STRING BASED ASSIGNMENT PROBLEMS"
   ]
  },
  {
   "cell_type": "code",
   "execution_count": 1,
   "id": "2c65df08-069a-4111-bd4f-cb2806c93162",
   "metadata": {},
   "outputs": [],
   "source": [
    "#QUESTION NO 1=  WAP TO REVERSE A STRING"
   ]
  },
  {
   "cell_type": "code",
   "execution_count": 11,
   "id": "e578f605-61c5-4d35-a966-118ef474a8d6",
   "metadata": {},
   "outputs": [
    {
     "name": "stdin",
     "output_type": "stream",
     "text": [
      "enter a string hello\n"
     ]
    },
    {
     "name": "stdout",
     "output_type": "stream",
     "text": [
      "The reverse string is  olleh\n"
     ]
    }
   ],
   "source": [
    "a=input('enter a string')\n",
    "b=a[-1::-1]\n",
    "print('The reverse string is ' , b)"
   ]
  },
  {
   "cell_type": "code",
   "execution_count": null,
   "id": "afcc76f3-f23d-423f-b18b-2f1ff17a9575",
   "metadata": {},
   "outputs": [],
   "source": [
    "\n"
   ]
  },
  {
   "cell_type": "code",
   "execution_count": 10,
   "id": "6ff3234c-20ef-4afc-9536-a4e2fe63297f",
   "metadata": {},
   "outputs": [],
   "source": [
    "#QUESTION NO2  = Check if aCheck if a string is palindrome."
   ]
  },
  {
   "cell_type": "code",
   "execution_count": null,
   "id": "ee73c00f-0947-46a7-89e7-30ef2b996b9c",
   "metadata": {},
   "outputs": [],
   "source": []
  },
  {
   "cell_type": "code",
   "execution_count": 32,
   "id": "d18f50e0-087e-4000-ad57-93e2abcfdf46",
   "metadata": {},
   "outputs": [
    {
     "name": "stdin",
     "output_type": "stream",
     "text": [
      "enter a string ULU\n"
     ]
    },
    {
     "name": "stdout",
     "output_type": "stream",
     "text": [
      "the string is palindrome ULU ULU\n"
     ]
    }
   ],
   "source": [
    "a=input('enter a string')\n",
    "b=a[-1::-1]\n",
    "if b==a:\n",
    "        print('the string is palindrome',b , a)\n",
    "else:\n",
    "        print('the string is not palindorme',b,a)\n",
    "        \n",
    "            "
   ]
  },
  {
   "cell_type": "code",
   "execution_count": null,
   "id": "1d3e7603-d55e-42e8-a059-5972cb049033",
   "metadata": {},
   "outputs": [],
   "source": []
  },
  {
   "cell_type": "code",
   "execution_count": null,
   "id": "a6529cbe-b28c-44c5-9f34-8d1acc2ae453",
   "metadata": {},
   "outputs": [],
   "source": [
    "#QUESTION NO 3=Convert a string to uppercase."
   ]
  },
  {
   "cell_type": "code",
   "execution_count": null,
   "id": "0250f3b5-4e6c-4639-9742-1bae37413a9b",
   "metadata": {},
   "outputs": [],
   "source": []
  },
  {
   "cell_type": "code",
   "execution_count": 37,
   "id": "c847708d-6f4c-4e92-8ab4-7f9c2a311719",
   "metadata": {},
   "outputs": [
    {
     "name": "stdin",
     "output_type": "stream",
     "text": [
      "enter string hi\n"
     ]
    },
    {
     "name": "stdout",
     "output_type": "stream",
     "text": [
      "the sentence in uppercase is HI\n"
     ]
    }
   ],
   "source": [
    "a=input('enter string')\n",
    "b=a.upper()\n",
    "print('the sentence in uppercase is',b)"
   ]
  },
  {
   "cell_type": "code",
   "execution_count": null,
   "id": "0a882990-7e60-4491-a6bb-9363db9a7f62",
   "metadata": {},
   "outputs": [],
   "source": []
  },
  {
   "cell_type": "code",
   "execution_count": null,
   "id": "e94bd74b-2012-483a-a524-fc939ad604ea",
   "metadata": {},
   "outputs": [],
   "source": [
    "#Question no 4 =Convert a string to lowercase.\n"
   ]
  },
  {
   "cell_type": "code",
   "execution_count": 40,
   "id": "b7cdb907-3280-497c-b58e-b2634ed5d605",
   "metadata": {},
   "outputs": [
    {
     "name": "stdin",
     "output_type": "stream",
     "text": [
      "enter the string HI\n"
     ]
    },
    {
     "name": "stdout",
     "output_type": "stream",
     "text": [
      "the sence in lower is hi\n"
     ]
    }
   ],
   "source": [
    "a=input('enter the string')\n",
    "b=a.lower()\n",
    "print('the sence in lower is',b)\n"
   ]
  },
  {
   "cell_type": "code",
   "execution_count": null,
   "id": "96d4ac9f-aac9-4424-817b-41971ccd9187",
   "metadata": {},
   "outputs": [],
   "source": []
  },
  {
   "cell_type": "code",
   "execution_count": null,
   "id": "b092d596-0d43-4846-a597-43bcd374f582",
   "metadata": {},
   "outputs": [],
   "source": []
  },
  {
   "cell_type": "code",
   "execution_count": null,
   "id": "7c1a13a3-5f6a-4577-95a8-24c9bb77a55c",
   "metadata": {},
   "outputs": [],
   "source": [
    "#Question no 5=Count number of vowels\n"
   ]
  },
  {
   "cell_type": "code",
   "execution_count": 59,
   "id": "be8ebd6c-48d1-4ce5-afcb-fb319d21d127",
   "metadata": {},
   "outputs": [
    {
     "name": "stdin",
     "output_type": "stream",
     "text": [
      "enter a sentence fgh\n"
     ]
    }
   ],
   "source": [
    "a=input('enter a sentence')\n",
    "vowel_count= 0\n",
    "b='aeiouAEIOU'\n",
    "for char in a:\n",
    "    if char==b:\n",
    "        vowel_count += 1\n",
    "        print('t', vowel_count)"
   ]
  },
  {
   "cell_type": "raw",
   "id": "7956b5bc-1005-4970-98a9-cdc2983ad592",
   "metadata": {},
   "source": []
  },
  {
   "cell_type": "code",
   "execution_count": 8,
   "id": "29890431-da59-4f01-b2c2-cf5fcb4f5002",
   "metadata": {},
   "outputs": [],
   "source": [
    "#Question no 6=count number of consonents\n"
   ]
  },
  {
   "cell_type": "code",
   "execution_count": 48,
   "id": "d95d7866-35de-41fc-a3bb-07deb2480e7d",
   "metadata": {},
   "outputs": [
    {
     "name": "stdin",
     "output_type": "stream",
     "text": [
      "enter string hfyrag\n"
     ]
    }
   ],
   "source": [
    "\n",
    "a=input('enter string')\n",
    "b=list(a)\n",
    "c= ['a','e','i','o','u']\n",
    "cp=0\n",
    "for char in b:\n",
    "    if char==c:\n",
    "        cp+=1"
   ]
  },
  {
   "cell_type": "code",
   "execution_count": null,
   "id": "8b91b5a0-6521-4b31-b644-ebe9c97df211",
   "metadata": {},
   "outputs": [],
   "source": []
  },
  {
   "cell_type": "code",
   "execution_count": null,
   "id": "baa3b837-ee9a-422a-ad14-a751f55c742d",
   "metadata": {},
   "outputs": [],
   "source": [
    "#QUESTION NO 7= Remove all whitespaces from a string"
   ]
  },
  {
   "cell_type": "code",
   "execution_count": 35,
   "id": "acaf2f2d-abb3-4f5d-ba55-42bd602b1c4d",
   "metadata": {},
   "outputs": [
    {
     "name": "stdin",
     "output_type": "stream",
     "text": [
      "enter a string hi hello\n"
     ]
    },
    {
     "data": {
      "text/plain": [
       "'hihello'"
      ]
     },
     "execution_count": 35,
     "metadata": {},
     "output_type": "execute_result"
    }
   ],
   "source": [
    "a=input('enter a string')\n",
    "a.replace(' ','')"
   ]
  },
  {
   "cell_type": "code",
   "execution_count": null,
   "id": "9b640ead-dd65-4743-9511-cb2be9d2f8c4",
   "metadata": {},
   "outputs": [],
   "source": []
  },
  {
   "cell_type": "code",
   "execution_count": 49,
   "id": "01fb5276-65b5-4a0d-80d8-2f722b60c36b",
   "metadata": {},
   "outputs": [],
   "source": [
    "#Question no 8=Find the length of a string without using the len() function"
   ]
  },
  {
   "cell_type": "code",
   "execution_count": 1,
   "id": "4bdaff87-e834-417e-8442-03bfcccf2f81",
   "metadata": {},
   "outputs": [
    {
     "name": "stdin",
     "output_type": "stream",
     "text": [
      "enter string hello\n"
     ]
    },
    {
     "name": "stdout",
     "output_type": "stream",
     "text": [
      "length is 1\n",
      "length is 2\n",
      "length is 3\n",
      "length is 4\n",
      "length is 5\n"
     ]
    }
   ],
   "source": [
    "a=input('enter string')\n",
    "count = 0\n",
    "for char in a:\n",
    "    count = count+ 1\n",
    "    print('length is',count)"
   ]
  },
  {
   "cell_type": "code",
   "execution_count": null,
   "id": "f8f5a578-39ee-40a6-bde2-3bbc2de1587e",
   "metadata": {},
   "outputs": [],
   "source": []
  },
  {
   "cell_type": "code",
   "execution_count": null,
   "id": "f314daa3-b088-464e-b3a9-9fddb3776492",
   "metadata": {},
   "outputs": [],
   "source": [
    "#Question no 9= Check if a string contains a specific word"
   ]
  },
  {
   "cell_type": "code",
   "execution_count": 66,
   "id": "00acefdb-218a-4321-9719-98a08818b4b9",
   "metadata": {},
   "outputs": [
    {
     "name": "stdin",
     "output_type": "stream",
     "text": [
      "enter a string hello how are you\n",
      "enter the word to search for e\n"
     ]
    },
    {
     "name": "stdout",
     "output_type": "stream",
     "text": [
      "the word matched e\n"
     ]
    }
   ],
   "source": [
    "a=input('enter a string')\n",
    "b=input('enter the word to search for')\n",
    "if b in a :\n",
    "    print('the word matched',b)\n",
    "else:\n",
    "        print('the word did not match',b)"
   ]
  },
  {
   "cell_type": "code",
   "execution_count": null,
   "id": "9add34e9-63e3-4c7e-869b-19d51d2e2d0f",
   "metadata": {},
   "outputs": [],
   "source": []
  },
  {
   "cell_type": "code",
   "execution_count": 67,
   "id": "76fb938a-2c96-4821-8f03-01b0ffb99f25",
   "metadata": {},
   "outputs": [],
   "source": [
    "#Question no 10 = Check if a string contains a specific word\n"
   ]
  },
  {
   "cell_type": "code",
   "execution_count": 71,
   "id": "e0f1d05c-693f-4318-b670-e1531f617a18",
   "metadata": {},
   "outputs": [
    {
     "name": "stdin",
     "output_type": "stream",
     "text": [
      "enter a string hello myself a data scientist\n",
      "enter old word  my\n",
      "enter new word your\n"
     ]
    },
    {
     "name": "stdout",
     "output_type": "stream",
     "text": [
      "the new string is  hello yourself a data scientist\n"
     ]
    }
   ],
   "source": [
    "a=input('enter a string')\n",
    "b=input('enter old word ')\n",
    "c=input('enter new word')\n",
    "d=a.replace(b,c)\n",
    "print ('the new string is ',d) "
   ]
  },
  {
   "cell_type": "code",
   "execution_count": null,
   "id": "2cc94eda-a538-4fa9-bee5-084e0150fd76",
   "metadata": {},
   "outputs": [],
   "source": []
  },
  {
   "cell_type": "code",
   "execution_count": 72,
   "id": "a597b6d1-b881-4d3b-94b5-e8c912cd7dbb",
   "metadata": {},
   "outputs": [],
   "source": [
    "#Question no 11 = Count the occurrences of a word in a string"
   ]
  },
  {
   "cell_type": "code",
   "execution_count": 82,
   "id": "28e19e59-e635-4924-b72a-cfc7f3913be9",
   "metadata": {},
   "outputs": [
    {
     "name": "stdin",
     "output_type": "stream",
     "text": [
      "enter a string hello myself a good data scientist my hobbies are\n",
      "enter the specific word my\n"
     ]
    },
    {
     "name": "stdout",
     "output_type": "stream",
     "text": [
      "the number of occurance is  1\n"
     ]
    }
   ],
   "source": [
    "a=input('enter a string')\n",
    "b=input('enter the specific word')\n",
    "c=a.split()\n",
    "cnt=0\n",
    "for word in c:\n",
    "    if word==b:\n",
    "        cnt+=1\n",
    "        print('the number of occurance is ',cnt )\n",
    "        "
   ]
  },
  {
   "cell_type": "code",
   "execution_count": null,
   "id": "a63c3de9-4050-48cb-8ef1-026e268d76ba",
   "metadata": {},
   "outputs": [],
   "source": [
    "\n"
   ]
  },
  {
   "cell_type": "code",
   "execution_count": null,
   "id": "61c1d21e-e76b-4bff-a89c-0154989ec727",
   "metadata": {},
   "outputs": [],
   "source": [
    "#Question no 12 = Find the first occurrence of a word in a string."
   ]
  },
  {
   "cell_type": "code",
   "execution_count": 86,
   "id": "08eedf66-e62b-47c8-8a88-c3674f05e38a",
   "metadata": {},
   "outputs": [
    {
     "name": "stdin",
     "output_type": "stream",
     "text": [
      "enter a string ljvg\n"
     ]
    }
   ],
   "source": []
  },
  {
   "cell_type": "code",
   "execution_count": null,
   "id": "6e4ca6f9-5d4c-4530-95de-f92cc9021503",
   "metadata": {},
   "outputs": [],
   "source": []
  },
  {
   "cell_type": "code",
   "execution_count": null,
   "id": "6c11e7f5-48f6-4506-acc5-2a0276e79be5",
   "metadata": {},
   "outputs": [],
   "source": [
    "#Question no 13 = "
   ]
  },
  {
   "cell_type": "code",
   "execution_count": null,
   "id": "beadeb73-c593-4aca-956c-124102b8f4b5",
   "metadata": {},
   "outputs": [],
   "source": []
  },
  {
   "cell_type": "code",
   "execution_count": 87,
   "id": "e3457626-6608-469c-821c-41f76d1d95ec",
   "metadata": {},
   "outputs": [],
   "source": [
    "#Question no 14= Split a string into a list of words."
   ]
  },
  {
   "cell_type": "code",
   "execution_count": 90,
   "id": "f0f6717b-a31b-42f5-971d-f4567f8e00dc",
   "metadata": {},
   "outputs": [
    {
     "name": "stdin",
     "output_type": "stream",
     "text": [
      "enter a string hello myselfa good boy\n"
     ]
    },
    {
     "name": "stdout",
     "output_type": "stream",
     "text": [
      "the list of words are  ['hello', 'myselfa', 'good', 'boy']\n"
     ]
    }
   ],
   "source": [
    "a=input('enter a string')\n",
    "b=a.split()\n",
    "print('the list of words are ',b)"
   ]
  },
  {
   "cell_type": "code",
   "execution_count": null,
   "id": "de7da31f-2294-4e79-9e47-28a5bf7d3f81",
   "metadata": {},
   "outputs": [],
   "source": []
  },
  {
   "cell_type": "code",
   "execution_count": 91,
   "id": "812875b7-d14b-4a3a-9f69-72f775d7be1d",
   "metadata": {},
   "outputs": [],
   "source": [
    "#Question no 15= Join a list of words into a string.\n"
   ]
  },
  {
   "cell_type": "code",
   "execution_count": 8,
   "id": "d9b68f9e-a2c9-4d42-ab19-da42909059b5",
   "metadata": {},
   "outputs": [
    {
     "name": "stdin",
     "output_type": "stream",
     "text": [
      "enter a list 'dhd','reh'\n"
     ]
    },
    {
     "name": "stdout",
     "output_type": "stream",
     "text": [
      "the list of word is  ' d h d ' , ' r e h '\n"
     ]
    }
   ],
   "source": [
    "a=(input('enter a list'))\n",
    "b=' '.join(a)\n",
    "c=b.replace(' ',' ')\n",
    "print('the list of word is ',c)\n",
    "\n"
   ]
  },
  {
   "cell_type": "code",
   "execution_count": null,
   "id": "7eaca979-0ce7-40eb-be7c-f80a2cbbace2",
   "metadata": {},
   "outputs": [],
   "source": []
  },
  {
   "cell_type": "code",
   "execution_count": null,
   "id": "144c7c4a-ff10-4b01-933c-6368df40c98c",
   "metadata": {},
   "outputs": [],
   "source": [
    "#Question no 16 16. Convert a string where words are separated by spaces to one where words are separated by underscores."
   ]
  },
  {
   "cell_type": "code",
   "execution_count": 9,
   "id": "949c39ab-aabc-4ae4-b108-faea78ea2625",
   "metadata": {},
   "outputs": [
    {
     "name": "stdin",
     "output_type": "stream",
     "text": [
      "enter a string hello world\n"
     ]
    },
    {
     "name": "stdout",
     "output_type": "stream",
     "text": [
      "hello_world\n"
     ]
    }
   ],
   "source": [
    "a=input('enter a string')\n",
    "b=a.replace(' ','_')\n",
    "print(b)"
   ]
  },
  {
   "cell_type": "code",
   "execution_count": null,
   "id": "5b7f6fb3-35c6-49ed-b3ae-9f351f4114e9",
   "metadata": {},
   "outputs": [],
   "source": []
  },
  {
   "cell_type": "code",
   "execution_count": null,
   "id": "995fae45-a16c-4235-b037-0124e6dd2ca8",
   "metadata": {},
   "outputs": [],
   "source": [
    "#Question no 17 Check if a string starts with a specific word or phrase."
   ]
  },
  {
   "cell_type": "code",
   "execution_count": 40,
   "id": "bfad554a-aa7b-44aa-9051-5f77e9864383",
   "metadata": {},
   "outputs": [
    {
     "name": "stdin",
     "output_type": "stream",
     "text": [
      "enter a sentence hello world\n",
      "enter the word hello\n"
     ]
    },
    {
     "name": "stdout",
     "output_type": "stream",
     "text": [
      "the sentence starts with hello\n"
     ]
    }
   ],
   "source": [
    "a=input('enter a sentence')\n",
    "b=input('enter the word')\n",
    "c=a.startswith(b)\n",
    "if c==True:\n",
    "    print('the sentence starts with',b)\n",
    "else:\n",
    "    print('doesnot starts with',b)"
   ]
  },
  {
   "cell_type": "code",
   "execution_count": null,
   "id": "941ded10-2f22-47b6-a205-dbfd27d9bfa5",
   "metadata": {},
   "outputs": [],
   "source": []
  },
  {
   "cell_type": "code",
   "execution_count": null,
   "id": "95e8c92a-600f-43a1-b901-d2b9c9abd1da",
   "metadata": {},
   "outputs": [],
   "source": []
  },
  {
   "cell_type": "code",
   "execution_count": 42,
   "id": "7efee514-ff28-4a26-9fb5-0b07952c3411",
   "metadata": {},
   "outputs": [],
   "source": [
    "#Question no 18  Check if a string ends with a specific word or phrase."
   ]
  },
  {
   "cell_type": "code",
   "execution_count": 44,
   "id": "b7f72f41-a87a-490d-9321-0a33542cc3c1",
   "metadata": {},
   "outputs": [
    {
     "name": "stdin",
     "output_type": "stream",
     "text": [
      "enter a sentence hello every onr\n",
      "enter the word hello\n"
     ]
    },
    {
     "name": "stdout",
     "output_type": "stream",
     "text": [
      "doesnot ends with hello\n"
     ]
    }
   ],
   "source": [
    "a=input('enter a sentence')\n",
    "b=input('enter the word')\n",
    "c=a.endswith(b)\n",
    "if c==True:\n",
    "    print('the sentence ends with',b)\n",
    "else:\n",
    "    print('doesnot ends with',b)"
   ]
  },
  {
   "cell_type": "code",
   "execution_count": null,
   "id": "30678c19-f2d4-436e-b02c-caa7745bddac",
   "metadata": {},
   "outputs": [],
   "source": []
  },
  {
   "cell_type": "code",
   "execution_count": null,
   "id": "b61ae494-3e48-4d14-bb26-f0bb38fb6064",
   "metadata": {},
   "outputs": [],
   "source": []
  },
  {
   "cell_type": "code",
   "execution_count": 45,
   "id": "c05d6a8a-0c53-42c1-90c5-c8fa780e9a9d",
   "metadata": {},
   "outputs": [],
   "source": [
    "#Question no 19. Convert a string to title case"
   ]
  },
  {
   "cell_type": "code",
   "execution_count": 46,
   "id": "cfa2238c-9d1a-48d6-a771-05d77e979162",
   "metadata": {},
   "outputs": [
    {
     "name": "stdin",
     "output_type": "stream",
     "text": [
      "enter a text hello world\n"
     ]
    },
    {
     "name": "stdout",
     "output_type": "stream",
     "text": [
      "Hello World\n"
     ]
    }
   ],
   "source": [
    "a=input('enter a text')\n",
    "b=a.title()\n",
    "print(b)"
   ]
  },
  {
   "cell_type": "code",
   "execution_count": null,
   "id": "298f4ccc-e69d-4655-9f40-b1780e38fc69",
   "metadata": {},
   "outputs": [],
   "source": []
  },
  {
   "cell_type": "code",
   "execution_count": null,
   "id": "fe035bdf-4203-430c-8f3d-9fe40dc6a7ef",
   "metadata": {},
   "outputs": [],
   "source": []
  },
  {
   "cell_type": "code",
   "execution_count": 47,
   "id": "bd141e73-3b13-4c17-992a-7673636c4de0",
   "metadata": {},
   "outputs": [],
   "source": [
    "### 20. Find the longest word in a string."
   ]
  },
  {
   "cell_type": "code",
   "execution_count": 84,
   "id": "08dfce26-2900-40aa-8426-b3cbda9fcb76",
   "metadata": {},
   "outputs": [
    {
     "name": "stdin",
     "output_type": "stream",
     "text": [
      "enter a sentence hello my nam i subhramaniam\n"
     ]
    },
    {
     "name": "stdout",
     "output_type": "stream",
     "text": [
      "the longest word is subhramaniam\n"
     ]
    }
   ],
   "source": [
    "a=input('enter a sentence')\n",
    "b=a.split()\n",
    "c=0\n",
    "d=''\n",
    "for words in b:\n",
    "    if len(words)>c:\n",
    "        c = len(words)\n",
    "        d = words\n",
    "print('the longest word is',d)\n",
    "         \n",
    "        \n",
    "    \n",
    "    \n",
    "\n",
    "    "
   ]
  },
  {
   "cell_type": "code",
   "execution_count": null,
   "id": "661d56fc-2891-4eb7-b338-4decda019372",
   "metadata": {},
   "outputs": [],
   "source": []
  },
  {
   "cell_type": "code",
   "execution_count": null,
   "id": "86ef7d28-f82e-4a82-a1c2-53de2ac4aed4",
   "metadata": {},
   "outputs": [],
   "source": [
    "### 21. Find the shortest word in a string."
   ]
  },
  {
   "cell_type": "code",
   "execution_count": 88,
   "id": "126d67df-9c26-4bf0-866c-bb4a76a2e327",
   "metadata": {},
   "outputs": [
    {
     "name": "stdin",
     "output_type": "stream",
     "text": [
      "enter a sentence hi myself ayush\n"
     ]
    },
    {
     "name": "stdout",
     "output_type": "stream",
     "text": [
      "the shortest word is hi\n"
     ]
    }
   ],
   "source": [
    "a=input('enter a sentence')\n",
    "b=a.split()\n",
    "c=10**1000\n",
    "d=''\n",
    "for words in b:\n",
    "    if len(words)<c:\n",
    "        c=len(words)\n",
    "        d=words\n",
    "print('the shortest word is',d)"
   ]
  },
  {
   "cell_type": "code",
   "execution_count": null,
   "id": "d9d99c93-2f2a-4e09-8223-2f01a228c12a",
   "metadata": {},
   "outputs": [],
   "source": []
  },
  {
   "cell_type": "code",
   "execution_count": null,
   "id": "8221f863-480d-4fd0-aa0c-52962412fae5",
   "metadata": {},
   "outputs": [],
   "source": [
    "### 22. Reverse the order of words in a string."
   ]
  },
  {
   "cell_type": "code",
   "execution_count": 15,
   "id": "3f69f0af-399d-4c30-ad9e-7d624120ba78",
   "metadata": {},
   "outputs": [
    {
     "name": "stdin",
     "output_type": "stream",
     "text": [
      "enter a string hello world\n"
     ]
    },
    {
     "name": "stdout",
     "output_type": "stream",
     "text": [
      "the reverse is  world hello\n"
     ]
    }
   ],
   "source": [
    "a=input('enter a string')\n",
    "b=a.split()\n",
    "c=b[-1::-1]\n",
    "d=' '.join(c)\n",
    "print('the reverse is ',d)"
   ]
  },
  {
   "cell_type": "code",
   "execution_count": null,
   "id": "c0794711-fab7-454f-bb38-b3c3a29faca4",
   "metadata": {},
   "outputs": [],
   "source": []
  },
  {
   "cell_type": "code",
   "execution_count": null,
   "id": "ea0ad98f-a19e-4027-98e0-db2e34760d90",
   "metadata": {},
   "outputs": [],
   "source": [
    "### 23. Check if a string is alphanumeric."
   ]
  },
  {
   "cell_type": "code",
   "execution_count": 29,
   "id": "f8936cb2-7aee-454a-856d-957c22d94f97",
   "metadata": {},
   "outputs": [
    {
     "name": "stdin",
     "output_type": "stream",
     "text": [
      "enter a sentence ayush\n"
     ]
    },
    {
     "name": "stdout",
     "output_type": "stream",
     "text": [
      "it is alphanumeric\n"
     ]
    }
   ],
   "source": [
    "a=input('enter a sentence')\n",
    "b=a.isalnum()\n",
    "if b ==True:\n",
    "    print('it is alphanumeric')\n",
    "else:\n",
    "    print('not alphanumeric')"
   ]
  },
  {
   "cell_type": "code",
   "execution_count": null,
   "id": "c3394ff4-a4db-4ca2-8b7a-03256e235665",
   "metadata": {},
   "outputs": [],
   "source": []
  },
  {
   "cell_type": "code",
   "execution_count": 36,
   "id": "ddf655a2-b134-4595-95ef-5e432f7f0a23",
   "metadata": {},
   "outputs": [
    {
     "name": "stdin",
     "output_type": "stream",
     "text": [
      "enter a string hello123\n"
     ]
    },
    {
     "name": "stdout",
     "output_type": "stream",
     "text": [
      "the digits are 123\n"
     ]
    }
   ],
   "source": [
    "a=input('enter a string')\n",
    "b=''\n",
    "for char in a:\n",
    "    if char.isdigit():\n",
    "        b += char\n",
    "print('the digits are',b)"
   ]
  },
  {
   "cell_type": "code",
   "execution_count": null,
   "id": "65bd8c06-9d3a-4127-a749-c7b3e5348c82",
   "metadata": {},
   "outputs": [],
   "source": []
  },
  {
   "cell_type": "code",
   "execution_count": 37,
   "id": "070f1685-7e16-4fe1-a601-f942f4e7f3d2",
   "metadata": {},
   "outputs": [],
   "source": [
    "### 25. Extract all alphabets from a string."
   ]
  },
  {
   "cell_type": "code",
   "execution_count": 47,
   "id": "c730084c-44ff-4e8f-b69a-a1f71bf366e9",
   "metadata": {},
   "outputs": [
    {
     "name": "stdin",
     "output_type": "stream",
     "text": [
      "enter a string hello world99799\n"
     ]
    },
    {
     "name": "stdout",
     "output_type": "stream",
     "text": [
      "the alphabets are helloworld\n"
     ]
    }
   ],
   "source": [
    "a=input('enter a string')\n",
    "b=''\n",
    "for char in a:\n",
    "    if char.isalpha():\n",
    "        b += char\n",
    "print('the alphabets are',b)"
   ]
  },
  {
   "cell_type": "code",
   "execution_count": null,
   "id": "1736bab5-ae19-4164-98c4-1d0d060d5a26",
   "metadata": {},
   "outputs": [],
   "source": []
  },
  {
   "cell_type": "code",
   "execution_count": null,
   "id": "f695ad75-4857-4fd3-b984-cd24f8fb56bd",
   "metadata": {},
   "outputs": [],
   "source": [
    "### 26. Count the number of uppercase letters in a string."
   ]
  },
  {
   "cell_type": "code",
   "execution_count": 51,
   "id": "75ecdb8f-1579-402c-ba5c-975ca479d8d0",
   "metadata": {},
   "outputs": [
    {
     "name": "stdin",
     "output_type": "stream",
     "text": [
      "enter a sentence Hello World\n"
     ]
    },
    {
     "name": "stdout",
     "output_type": "stream",
     "text": [
      "count is  2\n"
     ]
    }
   ],
   "source": [
    "a=input('enter a sentence')\n",
    "b=0\n",
    "for char in a:\n",
    "    if char.isupper():\n",
    "        b+=1\n",
    "print('count is ', b)"
   ]
  },
  {
   "cell_type": "code",
   "execution_count": null,
   "id": "1b4339df-2335-4ba4-82c7-11e9a950cbaa",
   "metadata": {},
   "outputs": [],
   "source": []
  },
  {
   "cell_type": "code",
   "execution_count": null,
   "id": "f99a37ff-ff24-402c-ba1b-6d7856b6c4d3",
   "metadata": {},
   "outputs": [],
   "source": [
    "### 28. Swap the case of each character in a string."
   ]
  },
  {
   "cell_type": "code",
   "execution_count": 53,
   "id": "d65d393a-4040-49aa-9e70-e4155512b0d0",
   "metadata": {},
   "outputs": [
    {
     "name": "stdin",
     "output_type": "stream",
     "text": [
      "enter a sentence Hello World\n"
     ]
    },
    {
     "name": "stdout",
     "output_type": "stream",
     "text": [
      "hELLO wORLD\n"
     ]
    }
   ],
   "source": [
    "a=input('enter a sentence')\n",
    "b=a.swapcase()\n",
    "print(b)"
   ]
  },
  {
   "cell_type": "code",
   "execution_count": null,
   "id": "aad2b962-2c01-4962-9a22-2617ecba6e60",
   "metadata": {},
   "outputs": [],
   "source": []
  },
  {
   "cell_type": "code",
   "execution_count": null,
   "id": "df2decc9-c1cb-47bd-bd4e-05ebb8e3780e",
   "metadata": {},
   "outputs": [],
   "source": [
    "### 29. Remove a specific word from a string."
   ]
  },
  {
   "cell_type": "code",
   "execution_count": 65,
   "id": "4381030d-6953-4eae-9e7d-e0cb562e60f7",
   "metadata": {},
   "outputs": [
    {
     "name": "stdin",
     "output_type": "stream",
     "text": [
      "enter a sentence jihi hlhlkh aa\n",
      "enter the word to remove aa\n"
     ]
    },
    {
     "name": "stdout",
     "output_type": "stream",
     "text": [
      "\n"
     ]
    }
   ],
   "source": [
    "a=input('enter a sentence')\n",
    "b=input('enter the word to remove')\n",
    "c=a.split()\n",
    "d=''\n",
    "for words in a:\n",
    "    if words ==b:\n",
    "        d = a.replace('b','')\n",
    "print(d)"
   ]
  },
  {
   "cell_type": "code",
   "execution_count": null,
   "id": "88da2168-20a5-48a6-84c3-877ab1105105",
   "metadata": {},
   "outputs": [],
   "source": []
  },
  {
   "cell_type": "code",
   "execution_count": null,
   "id": "b1cef3a6-f2d4-4b70-aa23-9e0a5dc9f4f0",
   "metadata": {},
   "outputs": [],
   "source": []
  },
  {
   "cell_type": "code",
   "execution_count": null,
   "id": "3f8f3eee-2eb5-41cb-92e0-a410a10d873a",
   "metadata": {},
   "outputs": [],
   "source": []
  }
 ],
 "metadata": {
  "kernelspec": {
   "display_name": "Python 3 (ipykernel)",
   "language": "python",
   "name": "python3"
  },
  "language_info": {
   "codemirror_mode": {
    "name": "ipython",
    "version": 3
   },
   "file_extension": ".py",
   "mimetype": "text/x-python",
   "name": "python",
   "nbconvert_exporter": "python",
   "pygments_lexer": "ipython3",
   "version": "3.10.8"
  }
 },
 "nbformat": 4,
 "nbformat_minor": 5
}
