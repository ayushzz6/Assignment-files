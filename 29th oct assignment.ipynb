{
 "cells": [
  {
   "cell_type": "code",
   "execution_count": 1,
   "id": "aa0b7273-1fd9-4443-b2fe-df71371e88fe",
   "metadata": {},
   "outputs": [],
   "source": [
    "#1. Given an array, check if it contains any duplicates or not.\n",
    "#arr = [1, 2, 4, 2, 5, 9]\n",
    "#Output = True\n"
   ]
  },
  {
   "cell_type": "code",
   "execution_count": 12,
   "id": "31d85c8d-337e-490e-bd87-7e1f49e8fdbb",
   "metadata": {},
   "outputs": [],
   "source": [
    "def check_dup(arr):\n",
    "    if len(arr) == len(set(arr)):\n",
    "        return True\n",
    "    else:\n",
    "        return False"
   ]
  },
  {
   "cell_type": "code",
   "execution_count": 14,
   "id": "41933b01-41b6-4bb7-bb9c-7817e8ab0598",
   "metadata": {},
   "outputs": [
    {
     "data": {
      "text/plain": [
       "True"
      ]
     },
     "execution_count": 14,
     "metadata": {},
     "output_type": "execute_result"
    }
   ],
   "source": [
    "check_dup([1,2,3,4,5])\n"
   ]
  },
  {
   "cell_type": "code",
   "execution_count": null,
   "id": "71d14363-1d08-4c00-8664-f4e775d0009a",
   "metadata": {},
   "outputs": [],
   "source": []
  },
  {
   "cell_type": "code",
   "execution_count": 15,
   "id": "4a52debc-f6c5-4d46-bfdb-9a80c7174dae",
   "metadata": {},
   "outputs": [],
   "source": [
    "#2. Given an array and an integer k, rotate the array to the right by k steps.\n",
    "# arr = [1, 2, 3, 4, 5, 6, 7] k=3\n",
    "# Output = [5, 6, 7, 1, 2, 3, 4]"
   ]
  },
  {
   "cell_type": "code",
   "execution_count": 27,
   "id": "0b9bf442-d308-49f0-a8dc-bdd1df37cdfd",
   "metadata": {},
   "outputs": [],
   "source": [
    "def rotation(arr):\n",
    "    for i in range(len(arr)):\n",
    "       \n",
    "        \n",
    "   \n",
    "                   "
   ]
  },
  {
   "cell_type": "code",
   "execution_count": null,
   "id": "a343448a-ef76-4b8c-a72d-9057ab2d21bf",
   "metadata": {},
   "outputs": [],
   "source": []
  },
  {
   "cell_type": "code",
   "execution_count": 29,
   "id": "ae8b607c-0c81-4171-9fc5-135cf8f39e72",
   "metadata": {},
   "outputs": [],
   "source": [
    "#3. Reverse the given array in-place, means without using any extra data structure.\n",
    "\n",
    "\n",
    "arr = [2, 4, 5, 7, 9, 12]\n",
    "Output = [12, 9, 7, 5, 4, 2]"
   ]
  },
  {
   "cell_type": "code",
   "execution_count": 31,
   "id": "a85821f3-3594-455b-9355-fe90e71ea197",
   "metadata": {},
   "outputs": [],
   "source": [
    "def reverse(arr):\n",
    "    arr.reverse()\n",
    "    return arr"
   ]
  },
  {
   "cell_type": "code",
   "execution_count": 32,
   "id": "32fa51b4-64b0-4be8-a9fa-941bd8fc6405",
   "metadata": {},
   "outputs": [
    {
     "data": {
      "text/plain": [
       "[12, 9, 7, 5, 4, 2]"
      ]
     },
     "execution_count": 32,
     "metadata": {},
     "output_type": "execute_result"
    }
   ],
   "source": [
    "reverse([2, 4, 5, 7, 9, 12])"
   ]
  },
  {
   "cell_type": "code",
   "execution_count": null,
   "id": "73367322-37bb-45c6-b8be-6fa504e7fb81",
   "metadata": {},
   "outputs": [],
   "source": []
  },
  {
   "cell_type": "code",
   "execution_count": 35,
   "id": "363fe420-8658-4808-92d9-ad0fd3615c41",
   "metadata": {},
   "outputs": [],
   "source": [
    "#4. Given an array of integers, find the maximum element in an array\n",
    "arr = [10, 5, 20, 8, 15]\n",
    "Output = 20"
   ]
  },
  {
   "cell_type": "code",
   "execution_count": 47,
   "id": "49e5527b-c270-416b-ae1b-a2404b059fe7",
   "metadata": {},
   "outputs": [],
   "source": [
    "def m(arr):\n",
    "    me= arr[0]\n",
    "    for i in arr:\n",
    "        if i> me:\n",
    "            me= i\n",
    "            return me\n",
    "        else:\n",
    "            pass\n",
    "    "
   ]
  },
  {
   "cell_type": "code",
   "execution_count": 48,
   "id": "d9ff891d-44d0-4928-b622-a2abbe60e771",
   "metadata": {},
   "outputs": [
    {
     "data": {
      "text/plain": [
       "20"
      ]
     },
     "execution_count": 48,
     "metadata": {},
     "output_type": "execute_result"
    }
   ],
   "source": [
    "m([10, 5, 20, 8, 15])"
   ]
  },
  {
   "cell_type": "code",
   "execution_count": null,
   "id": "6bbf46ee-a643-405c-bcba-329a04d30177",
   "metadata": {},
   "outputs": [],
   "source": []
  },
  {
   "cell_type": "code",
   "execution_count": null,
   "id": "dfaa044c-318b-47de-b7fb-1020bc6a9181",
   "metadata": {},
   "outputs": [],
   "source": []
  },
  {
   "cell_type": "code",
   "execution_count": 49,
   "id": "36700221-3d89-4ba8-91be-7d69bd94d31b",
   "metadata": {},
   "outputs": [],
   "source": [
    "#5. Given a sorted array, remove the duplicate element without using any extra data structure.\n",
    "arr = [1, 1, 2, 2, 2, 3, 3, 4, 4, 4, 5, 5]\n",
    "Output = [1, 2, 3, 4, 5]"
   ]
  },
  {
   "cell_type": "code",
   "execution_count": 56,
   "id": "9e5639ff-7432-4eb2-a0a2-58b60b1dd798",
   "metadata": {},
   "outputs": [],
   "source": [
    "def duplicates(arr):\n",
    "    b= set(arr)\n",
    "    return list(b)"
   ]
  },
  {
   "cell_type": "code",
   "execution_count": 57,
   "id": "f1dc90bd-0f30-4236-9557-35bde8537250",
   "metadata": {},
   "outputs": [
    {
     "data": {
      "text/plain": [
       "[1, 2, 3, 4, 5]"
      ]
     },
     "execution_count": 57,
     "metadata": {},
     "output_type": "execute_result"
    }
   ],
   "source": [
    "duplicates(list([1, 1, 2, 2, 2, 3, 3, 4, 4, 4, 5, 5]))"
   ]
  },
  {
   "cell_type": "code",
   "execution_count": null,
   "id": "bd510b84-36be-4e2b-a27a-18809ae5aa6b",
   "metadata": {},
   "outputs": [],
   "source": []
  }
 ],
 "metadata": {
  "kernelspec": {
   "display_name": "Python 3 (ipykernel)",
   "language": "python",
   "name": "python3"
  },
  "language_info": {
   "codemirror_mode": {
    "name": "ipython",
    "version": 3
   },
   "file_extension": ".py",
   "mimetype": "text/x-python",
   "name": "python",
   "nbconvert_exporter": "python",
   "pygments_lexer": "ipython3",
   "version": "3.10.8"
  }
 },
 "nbformat": 4,
 "nbformat_minor": 5
}
